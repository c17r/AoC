{
 "cells": [
  {
   "cell_type": "code",
   "execution_count": 1,
   "metadata": {},
   "outputs": [],
   "source": [
    "# Utility\n",
    "\n",
    "import requests\n",
    "from collections import defaultdict\n",
    "import re\n",
    "from collections import Counter, defaultdict, namedtuple, deque\n",
    "from functools   import lru_cache\n",
    "from itertools   import permutations, combinations, chain, cycle, product, islice\n",
    "from heapq       import heappop, heappush\n",
    "\n",
    "def contents(year, day, part):\n",
    "    with open(f'./2018/day{day}/part{part}') as f:\n",
    "        return f.read().rstrip().split('\\n')\n",
    "\n",
    "def take(n, iterable, default=None):\n",
    "    \"Return first n items of the iterable as a list\"\n",
    "    return list(islice(iterable, n, default))\n",
    "\n",
    "def nth(iterable, n, default=None):\n",
    "    \"Returns the nth item or a default value\"\n",
    "    return next(islice(iterable, n, None), default)\n",
    "\n",
    "first = lambda iterable: nth(iterable, 0)\n",
    "\n",
    "cat = ''.join\n",
    "    "
   ]
  },
  {
   "cell_type": "code",
   "execution_count": 2,
   "metadata": {},
   "outputs": [
    {
     "name": "stdout",
     "output_type": "stream",
     "text": [
      "115348\n",
      "188\n"
     ]
    }
   ],
   "source": [
    "\"\"\"\n",
    "Day 3\n",
    "\n",
    "1. fabric is a sparse matrix that holds a set to track all claims in that coordinate\n",
    "2. keep a running total of all claims we've seen\n",
    "2. if the count of claims for a coordinate go above 1\n",
    "    a. add the coordinate to the bad cells set\n",
    "    b. remove the claims from the running total\n",
    "\n",
    "Part 1 is the count of bad cells\n",
    "Part 2 is all cids minus all the bad cids, should be only 1 value\n",
    "\"\"\"\n",
    "\n",
    "claims = contents(2018, 3, 1)\n",
    "\n",
    "fabric = defaultdict(set)\n",
    "cids, bcells = set(), set()\n",
    "\n",
    "for claim in claims:\n",
    "    cid, left, top, width, height = map(int, re.findall('\\d+', claim))\n",
    "    cids.add(cid)\n",
    "    for x in range(left, left + width):\n",
    "        for y in range(top, top + height):\n",
    "            fabric[x,y].add(cid)\n",
    "            if len(fabric[x,y]) > 1:\n",
    "                cids = cids - fabric[x,y]\n",
    "                bcells.add((x,y))\n",
    "\n",
    "print(len(bcells))\n",
    "print(cids.pop())\n",
    "    "
   ]
  },
  {
   "cell_type": "code",
   "execution_count": 3,
   "metadata": {},
   "outputs": [
    {
     "name": "stdout",
     "output_type": "stream",
     "text": [
      "Part 1: 5000\n",
      "Part 2: ymdrchgpvwfloluktajxijsqb\n"
     ]
    }
   ],
   "source": [
    "\"\"\"\n",
    "Day 2\n",
    "\n",
    "Part 1: This is a dense couple of lines\n",
    "    1. Counter(line) gives us the count of each letter\n",
    "    2. _.values() gives us just the counts since we don't care about the particular letter at this point\n",
    "    3. set(_) gives us the unique count, since multiple 2s or 3s only count once per line\n",
    "    4. rt.update(_) puts the unique counts into another Counter, adding up as we go\n",
    "    5. we then just take the counts of the 2s and the 3s\n",
    "    \n",
    "Part 2: \n",
    "    1. product(codes, codes) is effectively a loop-within-a-loop.\n",
    "    2. lev is Levenshtein Distance: How many differences between the inputs on a character-by-character basis, we're looking for a single difference\n",
    "    3. one_offs runs as a generator so we can stop at the first one\n",
    "    4. actual answer is opposite of Levenshtein Distance, all the characters that are the same between the inputs on a character-by-character basis\n",
    "\"\"\"\n",
    "\n",
    "codes = contents(2018, 2, 1)\n",
    "\n",
    "rt = Counter()\n",
    "[rt.update(set(Counter(line).values())) for line in codes]\n",
    "print(f'Part 1: {rt[2] * rt[3]}')\n",
    "\n",
    "lev = lambda first, second: sum(1 for a, b in zip(first, second) if a != b)\n",
    "one_offs = ((one, two) for one, two in product(codes, codes) if lev(one, two) == 1)\n",
    "a, b = first(one_offs)\n",
    "answer = cat([c1 for c1, c2 in zip(a, b) if c1 == c2])\n",
    "print(f'Part 2: {answer}')"
   ]
  },
  {
   "cell_type": "code",
   "execution_count": 4,
   "metadata": {},
   "outputs": [
    {
     "name": "stdout",
     "output_type": "stream",
     "text": [
      "Part 1: 466\n",
      "Part 2: 750\n"
     ]
    }
   ],
   "source": [
    "\"\"\"\n",
    "Day 1\n",
    "\n",
    "Part 1: pretty simple, just a sum of all the numbers in the file.\n",
    "Part 2: we use cycle() to continue repeatig the iterable until we stop. Use set() for seen for performance purposes\n",
    "\"\"\"\n",
    "\n",
    "numbers = [int(i) for i in contents(2018, 1, 1)]\n",
    "print(f'Part 1: {sum(numbers)}')\n",
    "\n",
    "seen, rt = set(), 0\n",
    "for num in cycle(numbers):\n",
    "    rt += num\n",
    "    if rt in seen:\n",
    "        print(f'Part 2: {rt}')\n",
    "        break\n",
    "    seen.add(rt)"
   ]
  }
 ],
 "metadata": {
  "kernelspec": {
   "display_name": "Python 3",
   "language": "python",
   "name": "python3"
  },
  "language_info": {
   "codemirror_mode": {
    "name": "ipython",
    "version": 3
   },
   "file_extension": ".py",
   "mimetype": "text/x-python",
   "name": "python",
   "nbconvert_exporter": "python",
   "pygments_lexer": "ipython3",
   "version": "3.7.0"
  }
 },
 "nbformat": 4,
 "nbformat_minor": 2
}
