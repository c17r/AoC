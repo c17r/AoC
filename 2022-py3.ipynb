{
 "cells": [
  {
   "cell_type": "code",
   "execution_count": 12,
   "id": "0f7b221b",
   "metadata": {},
   "outputs": [],
   "source": [
    "# Utility\n",
    "import re, sys, copy, arrow, random\n",
    "from helpers import *\n",
    "\n",
    "# data = process_lines(<year:int>, <day:int>, <func>)\n",
    "# handle_result(<guess>, <year:int>, <day:int>, <part:str>, <both:bool<True>>)"
   ]
  },
  {
   "cell_type": "code",
   "execution_count": 14,
   "id": "378de5cf",
   "metadata": {},
   "outputs": [
    {
     "name": "stdout",
     "output_type": "stream",
     "text": [
      "part1 0.00 ms\n",
      "70764\n",
      "Part a already solved with same answer: 70764\n",
      "part2 0.00 ms\n",
      "203905\n",
      "Part b already solved with same answer: 203905\n",
      "day1 6.07 ms\n"
     ]
    }
   ],
   "source": [
    "@timeit\n",
    "def day1():\n",
    "    elf_totals = sorted(get_raw(2022, 1, lambda raw: [sum(get_ints(d)) for d in raw.split('\\n\\n')]), reverse=True)\n",
    "                \n",
    "    @timeit\n",
    "    def part1():\n",
    "        return elf_totals[0]\n",
    "    handle_result(part1(), 2022, 1, \"a\")\n",
    "    \n",
    "    @timeit\n",
    "    def part2():\n",
    "        return sum(elf_totals[:3])\n",
    "    handle_result(part2(), 2022, 1, \"b\")\n",
    "\n",
    "day1()"
   ]
  }
 ],
 "metadata": {
  "kernelspec": {
   "display_name": "Python 3 (ipykernel)",
   "language": "python",
   "name": "python3"
  },
  "language_info": {
   "codemirror_mode": {
    "name": "ipython",
    "version": 3
   },
   "file_extension": ".py",
   "mimetype": "text/x-python",
   "name": "python",
   "nbconvert_exporter": "python",
   "pygments_lexer": "ipython3",
   "version": "3.11.0"
  }
 },
 "nbformat": 4,
 "nbformat_minor": 5
}
