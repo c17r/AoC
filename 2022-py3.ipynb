{
 "cells": [
  {
   "cell_type": "code",
   "execution_count": 1,
   "id": "0f7b221b",
   "metadata": {},
   "outputs": [],
   "source": [
    "# Utility\n",
    "import re, sys, copy, arrow, random\n",
    "from helpers import *\n",
    "\n",
    "# data = process_lines(<year:int>, <day:int>, <func>)\n",
    "# handle_result(<guess>, <year:int>, <day:int>, <part:str>, <both:bool<True>>)"
   ]
  },
  {
   "cell_type": "code",
   "execution_count": null,
   "id": "31954bfa",
   "metadata": {},
   "outputs": [],
   "source": [
    "@timeit\n",
    "def day5():\n",
    "    data = process_lines(2022, 5)\n",
    "    \n",
    "    @timeit\n",
    "    def part1():\n",
    "        rv = 0\n",
    "        return rv\n",
    "    handle_result(part1(), 2022, 5, \"a\", False)\n",
    "    \n",
    "    @timeit\n",
    "    def part2():\n",
    "        rv = 0\n",
    "        return rv\n",
    "    handle_result(part2(), 2022, 5 \"b\", False)\n",
    "day5()"
   ]
  },
  {
   "cell_type": "code",
   "execution_count": 4,
   "id": "2e19ee53",
   "metadata": {},
   "outputs": [
    {
     "name": "stdout",
     "output_type": "stream",
     "text": [
      "part1 0.28 ms\n",
      "462\n",
      "Part a already solved with same answer: 462\n",
      "part2 0.48 ms\n",
      "835\n",
      "Part b already solved with same answer: 835\n",
      "day4 6.23 ms\n"
     ]
    }
   ],
   "source": [
    "@timeit\n",
    "def day4():\n",
    "    assignments = process_lines(2022, 4, lambda line: get_ints(line.replace('-', ' ')))\n",
    "\n",
    "    full_overlap = lambda s1, e1, s2, e2: (s1 <= s2 <= e2 <= e1) or (s2 <= s1 <= e1 <= e2)\n",
    "    partial_overlap = lambda s1, e1, s2, e2: max(s1, s2) <= min(e1, e2)\n",
    "    work = lambda func: len([1 for assignment in assignments if func(*assignment)])\n",
    "    \n",
    "    @timeit\n",
    "    def part1():\n",
    "        return work(full_overlap)\n",
    "    handle_result(part1(), 2022, 4, \"a\")\n",
    "    \n",
    "    @timeit\n",
    "    def part2():\n",
    "        return work(partial_overlap)\n",
    "    handle_result(part2(), 2022, 4, \"b\")\n",
    "day4()"
   ]
  },
  {
   "cell_type": "code",
   "execution_count": 16,
   "id": "d88d531c",
   "metadata": {},
   "outputs": [
    {
     "name": "stdout",
     "output_type": "stream",
     "text": [
      "part1 0.84 ms\n",
      "7878\n",
      "Part a already solved with same answer: 7878\n",
      "part2 0.63 ms\n",
      "2760\n",
      "Part b already solved with same answer: 2760\n",
      "day3 3.46 ms\n"
     ]
    }
   ],
   "source": [
    "@timeit\n",
    "def day3():\n",
    "    rucksacks = process_lines(2022, 3)\n",
    "    \n",
    "    from string import ascii_letters as scoring\n",
    "    score = lambda items: sum([1+scoring.index(item) for item in items])\n",
    "    \n",
    "    @timeit\n",
    "    def part1():\n",
    "        rv = 0\n",
    "        for rucksack in rucksacks:\n",
    "            split = len(rucksack) // 2\n",
    "            rv += score(set(rucksack[0:split]) & set(rucksack[split:]))\n",
    "        return rv\n",
    "    handle_result(part1(), 2022, 3, \"a\")\n",
    "    \n",
    "    @timeit\n",
    "    def part2():\n",
    "        return sum([score(set.intersection(*map(set, group))) for group in grouper(rucksacks, 3)])\n",
    "    handle_result(part2(), 2022, 3, \"b\")\n",
    "    \n",
    "day3()"
   ]
  },
  {
   "cell_type": "code",
   "execution_count": 19,
   "id": "db885697",
   "metadata": {},
   "outputs": [
    {
     "name": "stdout",
     "output_type": "stream",
     "text": [
      "part1 0.38 ms\n",
      "11063\n",
      "Part a already solved with same answer: 11063\n",
      "part2 0.48 ms\n",
      "10349\n",
      "Part b already solved with same answer: 10349\n",
      "day2math 3.88 ms\n"
     ]
    }
   ],
   "source": [
    "@timeit\n",
    "def day2math():\n",
    "    \"\"\"\n",
    "    A: Rock, B: Paper, C: Scissors\n",
    "    X: Rock, Y: Paper, Z: Scissors\n",
    "    0: Rock, 1: Paper, 2: Scissors\n",
    "    Rock: 1, Paper: 2, Scissors: 3\n",
    "    \"\"\"\n",
    "    ORD_A = ord('A')\n",
    "    ORD_X = ord('X')\n",
    "    def post(line):\n",
    "        f, s = line.split(' ')\n",
    "        return ord(f) - ORD_A, ord(s) - ORD_X\n",
    "    rnds = process_lines(2022, 2, post)\n",
    "\n",
    "    @timeit\n",
    "    def part1():\n",
    "        return sum([me + 1 + ((me - opponent + 1) % 3) * 3 for opponent, me in rnds])\n",
    "    handle_result(part1(), 2022, 2, \"a\")\n",
    "    \n",
    "    @timeit\n",
    "    def part2():\n",
    "        \"\"\"\n",
    "        X: Lose, Y: Draw, Z: Win\n",
    "        \"\"\"\n",
    "        return sum([outcome * 3 + ((opponent + ((outcome - 1) % 3)) % 3) + 1 for opponent, outcome in rnds])\n",
    "    handle_result(part2(), 2022, 2, \"b\")\n",
    "\n",
    "day2math()"
   ]
  },
  {
   "cell_type": "code",
   "execution_count": 20,
   "id": "25bb4289",
   "metadata": {},
   "outputs": [
    {
     "name": "stdout",
     "output_type": "stream",
     "text": [
      "part1 0.51 ms\n",
      "11063\n",
      "Part a already solved with same answer: 11063\n",
      "part2 0.77 ms\n",
      "10349\n",
      "Part b already solved with same answer: 10349\n",
      "day2 4.16 ms\n"
     ]
    }
   ],
   "source": [
    "@timeit\n",
    "def day2():\n",
    "    \"\"\"\n",
    "    A: Rock, B: Paper, C: Scissors\n",
    "    X: Rock, Y: Paper, Z: Scissors\n",
    "    \"\"\"\n",
    "    rnds = process_lines(2022, 2, lambda x: tuple(x.split(' ')))\n",
    "    round_scoring = {\n",
    "        # I win\n",
    "        ('A', 'Y'): 6, ('B', 'Z'): 6, ('C', 'X'): 6,\n",
    "        # I draw\n",
    "        ('A', 'X'): 3, ('B', 'Y'): 3, ('C', 'Z'): 3,\n",
    "    }\n",
    "    shape_scoring = {\n",
    "        'X': 1, # 0\n",
    "        'Y': 2, # 1\n",
    "        'Z': 3, # 2\n",
    "    }\n",
    "\n",
    "    @timeit\n",
    "    def part1():\n",
    "        rv = 0\n",
    "        for rnd in rnds:\n",
    "            rv += (round_scoring[rnd] if rnd in round_scoring else 0) + shape_scoring[rnd[1]]\n",
    "        return rv\n",
    "    handle_result(part1(), 2022, 2, \"a\")\n",
    "    \n",
    "    @timeit\n",
    "    def part2():\n",
    "        \"\"\"\n",
    "        X: Lose, Y: Draw, Z: Win\n",
    "        \"\"\"\n",
    "        my_shape = {\n",
    "            # I lose\n",
    "            ('A', 'X'): 'Z', ('B', 'X'): 'X', ('C', 'X'): 'Y',\n",
    "            # I draw\n",
    "            ('A', 'Y'): 'X', ('B', 'Y'): 'Y', ('C', 'Y'): 'Z',\n",
    "            # I win\n",
    "            ('A', 'Z'): 'Y', ('B', 'Z'): 'Z', ('C', 'Z'): 'X',\n",
    "        }\n",
    "        rv = 0\n",
    "        for orig in rnds:\n",
    "            rnd = (orig[0], my_shape[orig])\n",
    "            rv += (round_scoring[rnd] if rnd in round_scoring else 0) + shape_scoring[rnd[1]]\n",
    "        return rv\n",
    "    handle_result(part2(), 2022, 2, \"b\")\n",
    "\n",
    "day2()"
   ]
  },
  {
   "cell_type": "code",
   "execution_count": 21,
   "id": "378de5cf",
   "metadata": {},
   "outputs": [
    {
     "name": "stdout",
     "output_type": "stream",
     "text": [
      "part1 0.00 ms\n",
      "70764\n",
      "Part a already solved with same answer: 70764\n",
      "part2 0.00 ms\n",
      "203905\n",
      "Part b already solved with same answer: 203905\n",
      "day1 4.59 ms\n"
     ]
    }
   ],
   "source": [
    "@timeit\n",
    "def day1():\n",
    "    post = lambda raw: [sum(get_ints(d)) for d in raw.split('\\n\\n')]\n",
    "    elf_totals = sorted(get_raw(2022, 1, post), reverse=True)\n",
    "                \n",
    "    @timeit\n",
    "    def part1():\n",
    "        return elf_totals[0]\n",
    "    handle_result(part1(), 2022, 1, \"a\")\n",
    "    \n",
    "    @timeit\n",
    "    def part2():\n",
    "        return sum(elf_totals[:3])\n",
    "    handle_result(part2(), 2022, 1, \"b\")\n",
    "\n",
    "day1()"
   ]
  }
 ],
 "metadata": {
  "kernelspec": {
   "display_name": "Python 3 (ipykernel)",
   "language": "python",
   "name": "python3"
  },
  "language_info": {
   "codemirror_mode": {
    "name": "ipython",
    "version": 3
   },
   "file_extension": ".py",
   "mimetype": "text/x-python",
   "name": "python",
   "nbconvert_exporter": "python",
   "pygments_lexer": "ipython3",
   "version": "3.11.0"
  }
 },
 "nbformat": 4,
 "nbformat_minor": 5
}
