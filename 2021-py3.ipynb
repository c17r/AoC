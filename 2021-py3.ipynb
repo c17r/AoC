{
 "cells": [
  {
   "cell_type": "code",
   "execution_count": 1,
   "id": "74ce1a53",
   "metadata": {},
   "outputs": [],
   "source": [
    "# Utility\n",
    "import re, sys, copy, arrow, random\n",
    "from helpers import *"
   ]
  },
  {
   "cell_type": "code",
   "execution_count": 44,
   "id": "643bcf4e",
   "metadata": {},
   "outputs": [
    {
     "name": "stdout",
     "output_type": "stream",
     "text": [
      "part1 0.00 ms\n",
      "None\n",
      "part2 0.00 ms\n",
      "None\n",
      "day7 0.42 ms\n"
     ]
    }
   ],
   "source": [
    "@timeit\n",
    "def day7():\n",
    "    @timeit\n",
    "    def part1():\n",
    "        pass\n",
    "    handle_result(part1(), 2021, 7, \"a\", False)\n",
    "    \n",
    "    @timeit\n",
    "    def part2():\n",
    "        pass\n",
    "    handle_result(part2(), 2021, 7, \"b\", False)\n",
    "    \n",
    "day7()"
   ]
  },
  {
   "cell_type": "code",
   "execution_count": 43,
   "id": "905274fa",
   "metadata": {},
   "outputs": [
    {
     "name": "stdout",
     "output_type": "stream",
     "text": [
      "393019\n",
      "Part a already solved with same answer: 393019\n",
      "1757714216975\n",
      "Part b already solved with same answer: 1757714216975\n",
      "runit 4.72 ms\n",
      "day6 5.95 ms\n"
     ]
    }
   ],
   "source": [
    "@timeit\n",
    "def day6():\n",
    "    from copy import copy\n",
    "    raw = get_ints(get_lines(2021, 6)[0])\n",
    "    mc = sorted(Counter(raw).most_common(), key=lambda pt: pt[0])\n",
    "    \n",
    "    fishes = defaultdict(int)\n",
    "    for v, a in mc:\n",
    "        fishes[v] += a\n",
    "        \n",
    "    def count(d):\n",
    "        rv = 0\n",
    "        for v in d.values(): rv += v\n",
    "        return rv\n",
    "        \n",
    "    @timeit\n",
    "    def runit():\n",
    "        t = 0\n",
    "        totals = copy(fishes)\n",
    "        while True:\n",
    "            t += 1\n",
    "            if t == 81:\n",
    "                handle_result(count(totals), 2021, 6, \"a\")\n",
    "            if t == 257:\n",
    "                handle_result(count(totals), 2021, 6, \"b\")\n",
    "                return\n",
    "            \n",
    "            new = defaultdict(int)\n",
    "            for i in range(8, 0, -1):\n",
    "                new[i-1] += totals[i]\n",
    "            new[8] += totals[0]\n",
    "            new[6] += totals[0]\n",
    "            \n",
    "            totals = new\n",
    "    runit()\n",
    "day6()"
   ]
  },
  {
   "cell_type": "code",
   "execution_count": 15,
   "id": "637d3fe1",
   "metadata": {},
   "outputs": [
    {
     "name": "stdout",
     "output_type": "stream",
     "text": [
      "doit 89.71 ms\n",
      "6267\n",
      "Part a already solved with same answer: 6267\n",
      "doit 146.19 ms\n",
      "20196\n",
      "Part b already solved with same answer: 20196\n",
      "day5 399.91 ms\n"
     ]
    }
   ],
   "source": [
    "@timeit\n",
    "def day5():\n",
    "    from helpers.grids.xy import grid_print\n",
    "    \n",
    "    def mark(grid, pt):\n",
    "        grid[pt] += 1\n",
    "        \n",
    "    def straight(x1, y1, x2, y2):\n",
    "        xmin, xmax, ymin, ymax = min(x1, x2), max(x1, x2), min(y1, y2), max(y1, y2)\n",
    "        for x in range(xmin, xmax+1):\n",
    "            for y in range(ymin, ymax+1):\n",
    "                yield (x, y)\n",
    "                \n",
    "    def diag(x1, y1, x2, y2):\n",
    "        xstep = 1 if x1 < x2 else -1\n",
    "        ystep = 1 if y1 < y2 else -1\n",
    "        for x, y in zip(range(x1, x2 + xstep, xstep), range(y1, y2 + ystep, ystep)):\n",
    "            yield (x,y)\n",
    "    \n",
    "    def count(grid):\n",
    "        rv = 0\n",
    "        for v in grid.values():\n",
    "            rv += 1 if v > 1 else 0\n",
    "        return rv\n",
    "    \n",
    "    @timeit\n",
    "    def doit(part2=False):\n",
    "        grid = defaultdict(int)\n",
    "        lines = get_lines(2021, 5)\n",
    "        for line in lines:\n",
    "            x1, y1, x2, y2 = get_ints(line)\n",
    "            if x1 == x2 or y1 == y2:\n",
    "                [mark(grid, pt) for pt in straight(x1, y1, x2, y2)]\n",
    "            elif part2:\n",
    "                [mark(grid, pt) for pt in diag(x1, y1, x2, y2)]\n",
    "        return count(grid)\n",
    "    \n",
    "    handle_result(doit(), 2021, 5, \"a\")\n",
    "    handle_result(doit(True), 2021, 5, \"b\")\n",
    "    \n",
    "day5()"
   ]
  },
  {
   "cell_type": "code",
   "execution_count": 40,
   "id": "9aa50788",
   "metadata": {},
   "outputs": [
    {
     "name": "stdout",
     "output_type": "stream",
     "text": [
      "part1 66.93 ms\n",
      "11536\n",
      "Part a already solved with same answer: 11536\n",
      "part2 172.26 ms\n",
      "1284\n",
      "Part b already solved with same answer: 1284\n",
      "day4 277.09 ms\n"
     ]
    }
   ],
   "source": [
    "@timeit\n",
    "def day4():\n",
    "    from helpers.grids.rc import data_to_grid\n",
    "    \n",
    "    raw = process_lines(2021, 4, sep='\\n\\n')\n",
    "    calls = get_ints(raw[0])\n",
    "    cards = []\n",
    "    for line in raw[1:]:\n",
    "        ints = get_ints(line)\n",
    "        card = [list(r) for r in grouper(ints, 5)]\n",
    "        cards.append(card)\n",
    "        \n",
    "    def update_card(card, call):\n",
    "        for ri, r in enumerate(card):\n",
    "            for ci, c in enumerate(r):\n",
    "                if c == call:\n",
    "                    card[ri][ci] = 'X'\n",
    "\n",
    "    def check_card(card):\n",
    "        for r in card:\n",
    "            mc = Counter(r).most_common()\n",
    "            if len(mc) == 1 and mc[0][0] == 'X':\n",
    "                return True\n",
    "        for c in transpose(card):\n",
    "            mc = Counter(c).most_common()\n",
    "            if len(mc) == 1 and mc[0][0] == 'X':\n",
    "                return True\n",
    "        return False\n",
    "\n",
    "    def score_card(card):\n",
    "        rv = 0\n",
    "        for r in card:\n",
    "            for c in r:\n",
    "                rv += 0 if c == 'X' else c\n",
    "        return rv\n",
    "            \n",
    "    @timeit\n",
    "    def part1():\n",
    "        for call in calls:\n",
    "            for card in cards:\n",
    "                update_card(card, call)\n",
    "                if check_card(card):\n",
    "                    return score_card(card) * call    \n",
    "    handle_result(part1(), 2021, 4, \"a\")\n",
    "    \n",
    "    @timeit\n",
    "    def part2():\n",
    "        won_set = set()\n",
    "        won_list = []\n",
    "        for call in calls:\n",
    "            for ci, card in enumerate(cards):\n",
    "                if ci in won_set: continue\n",
    "                update_card(card, call)\n",
    "                if check_card(card):\n",
    "                    won_set.add(ci)\n",
    "                    won_list.append((ci, call))\n",
    "        idx, call = won_list[-1]\n",
    "        return score_card(cards[idx]) * call\n",
    "            \n",
    "    handle_result(part2(), 2021, 4, \"b\")\n",
    "day4()"
   ]
  },
  {
   "cell_type": "code",
   "execution_count": 5,
   "id": "a4f9e6dc",
   "metadata": {},
   "outputs": [
    {
     "name": "stdout",
     "output_type": "stream",
     "text": [
      "part1 0.79 ms\n",
      "4139586\n",
      "Part a already solved with same answer: 4139586\n",
      "part2 3.68 ms\n",
      "1800151\n",
      "Part b already solved with same answer: 1800151\n",
      "day3 210.87 ms\n"
     ]
    }
   ],
   "source": [
    "@timeit\n",
    "def day3():\n",
    "    data = process_lines(2021, 3)\n",
    "    \n",
    "    @timeit\n",
    "    def part1():\n",
    "        mt = []\n",
    "        lt = []\n",
    "        for section in transpose(data):\n",
    "            mc = Counter(section).most_common()\n",
    "            mt.append(mc[0][0])\n",
    "            lt.append(mc[-1][0])\n",
    "        return int(cat(mt), base=2) * int(cat(lt), base=2)\n",
    "    handle_result(part1(), 2021, 3, \"a\")\n",
    "    \n",
    "    @timeit\n",
    "    def part2():\n",
    "        def process(mcidx, val_if_equal):\n",
    "            corpus = data\n",
    "            idx = -1\n",
    "            while len(corpus) > 1:\n",
    "                idx += 1\n",
    "                mc = Counter(list(transpose(corpus))[idx]).most_common()\n",
    "                keep = val_if_equal if mc[0][1] == mc[-1][1] else mc[mcidx][0]\n",
    "                tmp = []\n",
    "                for c in corpus:\n",
    "                    if c[idx] == keep:\n",
    "                        tmp.append(c)\n",
    "                corpus = tmp\n",
    "            return corpus[0]\n",
    "        o2 = int(cat(process(0, '1')), base=2)\n",
    "        co2 = int(cat(process(-1, '0')), base=2)\n",
    "        return o2 * co2\n",
    "    handle_result(part2(), 2021, 3, \"b\")\n",
    "    \n",
    "day3()"
   ]
  },
  {
   "cell_type": "code",
   "execution_count": 3,
   "id": "95f5ab37",
   "metadata": {},
   "outputs": [
    {
     "name": "stdout",
     "output_type": "stream",
     "text": [
      "part1 0.11 ms\n",
      "1938402\n",
      "Part a already solved with same answer: 1938402\n",
      "part2 0.15 ms\n",
      "1947878632\n",
      "Part b already solved with same answer: 1947878632\n",
      "day2 5.79 ms\n"
     ]
    }
   ],
   "source": [
    "@timeit\n",
    "def day2():\n",
    "    def parse(line):\n",
    "        d = line.split(' ')\n",
    "        return (d[0], int(d[1]))\n",
    "    lines = process_lines(2021, 2, parse)\n",
    "    \n",
    "    @timeit\n",
    "    def part1():\n",
    "        h = d = 0\n",
    "        for ins, val in lines:\n",
    "            match ins:\n",
    "                case \"forward\": h += val\n",
    "                case \"down\": d += val\n",
    "                case \"up\": d -= val\n",
    "        return h*d\n",
    "    handle_result(part1(), 2021, 2, \"a\")\n",
    "    \n",
    "    @timeit\n",
    "    def part2():\n",
    "        h = d = a = 0\n",
    "        for ins, val in lines:\n",
    "            match ins:\n",
    "                case \"forward\": h, d = h + val, d + (a * val)\n",
    "                case \"down\": a += val\n",
    "                case \"up\": a -= val\n",
    "        return h*d\n",
    "    handle_result(part2(), 2021, 2, \"b\")\n",
    "    \n",
    "day2()"
   ]
  },
  {
   "cell_type": "code",
   "execution_count": 4,
   "id": "35eb4645",
   "metadata": {},
   "outputs": [
    {
     "name": "stdout",
     "output_type": "stream",
     "text": [
      "count_depth_change 0.59 ms\n",
      "1139\n",
      "Part a already solved with same answer: 1139\n",
      "count_depth_change 0.56 ms\n",
      "1103\n",
      "Part b already solved with same answer: 1103\n",
      "day1 5.99 ms\n"
     ]
    }
   ],
   "source": [
    "@timeit\n",
    "def day1():\n",
    "    depths = process_lines(2021, 1, int)\n",
    "    \n",
    "    @timeit\n",
    "    def count_depth_change(window_size):\n",
    "        cnt = 0\n",
    "        for window in overlapping(depths, window_size):\n",
    "            if window[-1] > window[0]:\n",
    "                cnt += 1\n",
    "        return cnt\n",
    "    \n",
    "    handle_result(count_depth_change(2), 2021, 1, \"a\")\n",
    "    handle_result(count_depth_change(4), 2021, 1, \"b\")\n",
    "\n",
    "day1()"
   ]
  },
  {
   "cell_type": "code",
   "execution_count": null,
   "id": "6f05d396",
   "metadata": {},
   "outputs": [],
   "source": []
  }
 ],
 "metadata": {
  "kernelspec": {
   "display_name": "Python 3 (ipykernel)",
   "language": "python",
   "name": "python3"
  },
  "language_info": {
   "codemirror_mode": {
    "name": "ipython",
    "version": 3
   },
   "file_extension": ".py",
   "mimetype": "text/x-python",
   "name": "python",
   "nbconvert_exporter": "python",
   "pygments_lexer": "ipython3",
   "version": "3.10.0"
  }
 },
 "nbformat": 4,
 "nbformat_minor": 5
}
