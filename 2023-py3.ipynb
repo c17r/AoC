{
 "cells": [
  {
   "cell_type": "code",
   "execution_count": 1,
   "id": "0f7b221b",
   "metadata": {},
   "outputs": [],
   "source": [
    "# Utility\n",
    "import re, sys, copy, arrow, random\n",
    "from helpers import *\n",
    "\n",
    "# data = process_lines(<year:int>, <day:int>, <func>)\n",
    "# handle_result(<guess>, <year:int>, <day:int>, <part:str>, <both:bool<True>>)"
   ]
  },
  {
   "cell_type": "code",
   "execution_count": 2,
   "id": "859b768c-c8a6-46a0-a464-6d25ee9bc12d",
   "metadata": {},
   "outputs": [
    {
     "name": "stdout",
     "output_type": "stream",
     "text": [
      "part1 1.33 ms\n",
      "2551\n",
      "Part a already solved with same answer: 2551\n",
      "part2 2.21 ms\n",
      "62811\n",
      "Part b already solved with same answer: 62811\n",
      "day2 7.69 ms\n"
     ]
    }
   ],
   "source": [
    "@timeit\n",
    "def day2():\n",
    "    games = get_lines(2023, 2)\n",
    "\n",
    "    maxs_by_color = {\n",
    "        \"red\": 12,\n",
    "        \"green\": 13,\n",
    "        \"blue\": 14,\n",
    "    }\n",
    "    \n",
    "    @timeit\n",
    "    def part1():\n",
    "        def check(hands):\n",
    "            for color, max_allowed in maxs_by_color.items():\n",
    "                for match in re.finditer(r\"(\\d+) \" + color, hands):\n",
    "                    if int(match.group(1)) > max_allowed:\n",
    "                        return False\n",
    "            return True\n",
    "            \n",
    "        total = 0\n",
    "        for game in games:\n",
    "            name, hands = game.split(\":\")\n",
    "            if check(hands):\n",
    "                pieces = name.split(\" \")\n",
    "                total += int(pieces[-1])\n",
    "        return total\n",
    "    handle_result(part1(), 2023, 2, \"a\")\n",
    "\n",
    "    @timeit\n",
    "    def part2():\n",
    "        def process(hands):\n",
    "            rv = {}\n",
    "            for color in maxs_by_color.keys():\n",
    "                rv[color] = 0\n",
    "                matches = list(re.finditer(r\"(\\d+) \" + color, hands))\n",
    "                if len(matches) > 0:\n",
    "                    rv[color] = max([int(match.group(1)) for match in matches])\n",
    "            return rv\n",
    "            \n",
    "        total = 0\n",
    "        for game in games:\n",
    "            _, hands = game.split(\":\")\n",
    "            colors = process(hands)\n",
    "            total += reduce((lambda x,y: x*y), colors.values())\n",
    "        return total\n",
    "    handle_result(part2(), 2023, 2, \"b\")\n",
    "\n",
    "day2()"
   ]
  },
  {
   "cell_type": "code",
   "execution_count": 3,
   "id": "955c2b66-1136-4b83-99fb-4684897590af",
   "metadata": {},
   "outputs": [
    {
     "name": "stdout",
     "output_type": "stream",
     "text": [
      "part1 1.84 ms\n",
      "55712\n",
      "Part a already solved with same answer: 55712\n",
      "part2 15.64 ms\n",
      "55413\n",
      "Part b already solved with same answer: 55413\n",
      "day1 21.80 ms\n"
     ]
    }
   ],
   "source": [
    "@timeit\n",
    "def day1():\n",
    "    lines = get_lines(2023, 1)\n",
    "\n",
    "    @timeit\n",
    "    def part1():\n",
    "        def parse(line):\n",
    "            ints = re.findall(r\"\\d\", line)\n",
    "            return int(ints[0] + ints[-1])\n",
    "            \n",
    "        return sum([parse(line) for line in lines])\n",
    "    handle_result(part1(), 2023, 1, \"a\")\n",
    "\n",
    "    @timeit\n",
    "    def part2():\n",
    "        convert = { \"one\": \"1\", \"two\": \"2\", \"three\": \"3\", \n",
    "                    \"four\": \"4\", \"five\": \"5\", \"six\": \"6\", \n",
    "                    \"seven\": \"7\", \"eight\": \"8\", \"nine\": \"9\", \n",
    "                    r\"\\d\": None }\n",
    "        \n",
    "        def get_digit(match):\n",
    "            val = match.group(0)\n",
    "            return convert.get(val, val)\n",
    "        \n",
    "        def parse(line):\n",
    "            matches = []\n",
    "            for check in convert.keys():\n",
    "                matches.extend(list(re.finditer(check, line)))\n",
    "            matches.sort(key=lambda m: m.start())\n",
    "            digits = [get_digit(m) for m in matches]\n",
    "            return int(digits[0] + digits[-1])\n",
    "            \n",
    "        return sum([parse(line) for line in lines])\n",
    "    handle_result(part2(), 2023, 1, \"b\")\n",
    "\n",
    "day1()"
   ]
  },
  {
   "cell_type": "code",
   "execution_count": null,
   "id": "b8d49a32-c5ad-4529-8bd5-d21f1fa1813b",
   "metadata": {},
   "outputs": [],
   "source": []
  }
 ],
 "metadata": {
  "kernelspec": {
   "display_name": "Python 3 (ipykernel)",
   "language": "python",
   "name": "python3"
  },
  "language_info": {
   "codemirror_mode": {
    "name": "ipython",
    "version": 3
   },
   "file_extension": ".py",
   "mimetype": "text/x-python",
   "name": "python",
   "nbconvert_exporter": "python",
   "pygments_lexer": "ipython3",
   "version": "3.12.0"
  }
 },
 "nbformat": 4,
 "nbformat_minor": 5
}
