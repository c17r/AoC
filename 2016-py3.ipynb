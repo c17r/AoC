{
 "cells": [
  {
   "cell_type": "code",
   "execution_count": 3,
   "id": "db5063c2",
   "metadata": {},
   "outputs": [],
   "source": [
    "# Utility\n",
    "import re, sys, copy, arrow, random\n",
    "from helpers import *"
   ]
  },
  {
   "cell_type": "code",
   "execution_count": 10,
   "id": "0a6d3112",
   "metadata": {},
   "outputs": [
    {
     "ename": "SyntaxError",
     "evalue": "invalid syntax (3662867501.py, line 11)",
     "output_type": "error",
     "traceback": [
      "\u001b[0;36m  File \u001b[0;32m\"/var/folders/6g/3xsllmw13wlgw6s9sz37nrz80000gq/T/ipykernel_39974/3662867501.py\"\u001b[0;36m, line \u001b[0;32m11\u001b[0m\n\u001b[0;31m    match =\u001b[0m\n\u001b[0m            ^\u001b[0m\n\u001b[0;31mSyntaxError\u001b[0m\u001b[0;31m:\u001b[0m invalid syntax\n"
     ]
    }
   ],
   "source": [
    "@timeit\n",
    "def day7():\n",
    "    lines = get_lines(2016, 7)\n",
    "    lines = \"\"\"abba[mnop]qrst\n",
    "abcd[bddb]xyyx\n",
    "aaaa[qwer]tyui\n",
    "ioxxoj[asdfgh]zxcvbn\"\"\".splitlines()\n",
    "    re_abba = re.compile(r\"(.)(.)\\2\\1\")\n",
    "    \n",
    "    def validate(ip):\n",
    "        match = \n",
    "    \n",
    "    for line in lines:\n",
    "        print(re_abba.search(line))\n",
    "day7()"
   ]
  },
  {
   "cell_type": "code",
   "execution_count": 9,
   "id": "9abd1cc9",
   "metadata": {},
   "outputs": [
    {
     "name": "stdout",
     "output_type": "stream",
     "text": [
      "qrqlznrl\n",
      "Part a already solved with same answer: qrqlznrl\n",
      "kgzdfaon\n",
      "Part b already solved with same answer: kgzdfaon\n",
      "day6 6.63 ms\n"
     ]
    }
   ],
   "source": [
    "@timeit\n",
    "def day6():\n",
    "    lines = get_lines(2016, 6)\n",
    "    \n",
    "    def get():\n",
    "        flipped = transpose(lines)\n",
    "        most = least = \"\"\n",
    "        for line in flipped:\n",
    "            common = Counter(line).most_common()\n",
    "            most += common[0][0]\n",
    "            least += common[-1][0]\n",
    "        return most, least\n",
    "    \n",
    "    m, l = get()\n",
    "    handle_result(m, 2016, 6, \"a\")\n",
    "    handle_result(l, 2016, 6, \"b\")\n",
    "day6()"
   ]
  },
  {
   "cell_type": "code",
   "execution_count": 8,
   "id": "d4022b18",
   "metadata": {},
   "outputs": [
    {
     "name": "stdout",
     "output_type": "stream",
     "text": [
      "801b56a7\n",
      "Part a already solved with same answer: 801b56a7\n",
      "424a0197\n",
      "Part b already solved with same answer: 424a0197\n",
      "day5 63885.46 ms\n"
     ]
    }
   ],
   "source": [
    "@timeit\n",
    "def day5():\n",
    "    import hashlib\n",
    "    \n",
    "    inp = get_raw(2016, 5)\n",
    "    \n",
    "    def get_hashes(seed, check):\n",
    "        cur = -1\n",
    "        gate = \"0\" * check\n",
    "        while True:\n",
    "            cur += 1\n",
    "            value = f\"{seed}{cur}\"\n",
    "            digest = hashlib.md5(value.encode('utf-8')).hexdigest()\n",
    "            if (digest[:check] == gate):\n",
    "                yield digest\n",
    "                \n",
    "    def part1():\n",
    "        pw = \"\"\n",
    "        for h in get_hashes(inp, 5):\n",
    "            pw += h[5]\n",
    "            if len(pw) == 8:\n",
    "                return pw\n",
    "    handle_result(part1(), 2016, 5, \"a\")\n",
    "    \n",
    "    def part2():\n",
    "        pw = [None] * 8\n",
    "        for h in get_hashes(inp, 5):\n",
    "            pos, let = int(h[5], 16), h[6]\n",
    "            if pos > 7 or pw[int(pos)] is not None: continue\n",
    "            pw[pos] = let\n",
    "            if None not in pw:\n",
    "                return \"\".join(pw)\n",
    "    handle_result(part2(), 2016, 5, \"b\")\n",
    "day5()"
   ]
  },
  {
   "cell_type": "code",
   "execution_count": 7,
   "id": "dbbed48e",
   "metadata": {},
   "outputs": [
    {
     "name": "stdout",
     "output_type": "stream",
     "text": [
      "245102\n",
      "Part a already solved with same answer: 245102\n",
      "324\n",
      "Part b already solved with same answer: 324\n",
      "day4 32.52 ms\n"
     ]
    }
   ],
   "source": [
    "@timeit\n",
    "def day4():\n",
    "    raw = \"\"\"aaaaa-bbb-z-y-x-123[abxyz]\n",
    "a-b-c-d-e-f-g-h-987[abcde]\n",
    "not-a-real-room-404[oarel]\n",
    "totally-real-room-200[decoy]\"\"\".splitlines()\n",
    "    raw = get_lines(2016, 4)\n",
    "    re_data = re.compile(r\"\\w+\")\n",
    "    process = lambda p: (\" \".join(p[:-2]), int(p[-2]), p[-1])\n",
    "    data = [process(re_data.findall(l)) for l in raw]\n",
    "    \n",
    "    def real_room(name, checksum):\n",
    "        counter = Counter(name.replace(\" \", \"\"))\n",
    "        stats = sorted(counter.most_common(), key=lambda p: (-p[1],p[0]))\n",
    "        letters = \"\".join(p[0] for p in stats)\n",
    "        l = min(len(letters), len(checksum))\n",
    "        return letters[0:l] == checksum[0:l]\n",
    "    \n",
    "    def decrypt_name(name, sector):\n",
    "        shift = sector % len(ascii_lowercase)\n",
    "        tr = str.maketrans(ascii_lowercase, ascii_lowercase[shift:] + ascii_lowercase[:shift])\n",
    "        return name.translate(tr)\n",
    "        \n",
    "    def part1():\n",
    "        return sum(sector for name, sector, checksum in data if real_room(name, checksum))\n",
    "    handle_result(part1(), 2016, 4, \"a\")\n",
    "    \n",
    "    def part2():\n",
    "        valid = [sector for name, sector, checksum in data if real_room(name, checksum) and \"north\" in decrypt_name(name, sector)]\n",
    "        return valid[0]\n",
    "    handle_result(part2(), 2016, 4, \"b\")\n",
    "    \n",
    "day4()"
   ]
  },
  {
   "cell_type": "code",
   "execution_count": 6,
   "id": "8631c15c",
   "metadata": {},
   "outputs": [
    {
     "name": "stdout",
     "output_type": "stream",
     "text": [
      "1050\n",
      "Part a already solved with same answer: 1050\n",
      "1921\n",
      "Part b already solved with same answer: 1921\n",
      "day3 14.56 ms\n"
     ]
    }
   ],
   "source": [
    "@timeit\n",
    "def day3():\n",
    "    lines = get_lines(2016,3)\n",
    "    data = [get_ints(l) for l in lines]\n",
    "    \n",
    "    def is_triangle(triangle):\n",
    "        s1, s2, s3 = sorted(triangle)\n",
    "        return s3 < s1 + s2\n",
    "    \n",
    "    def part1():\n",
    "        rv = 0\n",
    "        for triangle in data:\n",
    "            rv += 1 if is_triangle(triangle) else 0\n",
    "        return rv\n",
    "    handle_result(part1(), 2016, 3, \"a\")\n",
    "    \n",
    "    def part2():\n",
    "        rv = 0\n",
    "        for raw in grouper(data, 3):\n",
    "            for triangle in transpose(raw):\n",
    "                rv += 1 if is_triangle(triangle) else 0\n",
    "        return rv\n",
    "    handle_result(part2(), 2016, 3, \"b\")\n",
    "day3()"
   ]
  },
  {
   "cell_type": "code",
   "execution_count": 5,
   "id": "3021c34e",
   "metadata": {},
   "outputs": [
    {
     "name": "stdout",
     "output_type": "stream",
     "text": [
      "56983\n",
      "Part a already solved with same answer: 56983\n",
      "8B8B1\n",
      "Part b already solved with same answer: 8B8B1\n",
      "day2 9.44 ms\n"
     ]
    }
   ],
   "source": [
    "@timeit\n",
    "def day2():\n",
    "    from helpers.grids.rc import HEADINGS, UP, LEFT, DOWN, RIGHT, turn_left, turn_right, data_to_grid\n",
    "    \n",
    "    pad1, _, _ = data_to_grid(\"\"\"\n",
    ".....\n",
    ".123.\n",
    ".456.\n",
    ".789.\n",
    ".....\n",
    "\"\"\".splitlines()[1:])\n",
    "    \n",
    "    pad2, _, _ = data_to_grid(\"\"\"\n",
    ".......\n",
    "...1...\n",
    "..234..\n",
    ".56789.\n",
    "..ABC..\n",
    "...D...\n",
    ".......\n",
    "    \"\"\".splitlines()[1:])\n",
    "\n",
    "    transforms = {\n",
    "        'L': LEFT,\n",
    "        'R': RIGHT,\n",
    "        'U': UP,\n",
    "        'D': DOWN\n",
    "    }\n",
    "    lines = get_lines(2016, 2)\n",
    "    \n",
    "    def runner(pad, seed):\n",
    "        rv = \"\"\n",
    "        def find(start, steps):\n",
    "            current = start\n",
    "            for step in steps:\n",
    "                tmp = add(current, transforms[step])\n",
    "                current = tmp if pad[tmp] != '.' else current\n",
    "            return current\n",
    "        \n",
    "        current = seed\n",
    "        for line in lines:\n",
    "            current = find(current, line)\n",
    "            rv += pad[current]\n",
    "        return rv\n",
    "            \n",
    "    handle_result(runner(pad1, (2,3)), 2016, 2, \"a\")\n",
    "    handle_result(runner(pad2, (3,3)), 2016, 2, \"b\")\n",
    "        \n",
    "day2()"
   ]
  },
  {
   "cell_type": "code",
   "execution_count": 4,
   "id": "88ca3498",
   "metadata": {},
   "outputs": [
    {
     "name": "stdout",
     "output_type": "stream",
     "text": [
      "242\n"
     ]
    },
    {
     "ename": "HTTPError",
     "evalue": "404 Client Error: Not Found for url: https://adventofcode.com/2106/day/1",
     "output_type": "error",
     "traceback": [
      "\u001b[0;31m---------------------------------------------------------------------------\u001b[0m",
      "\u001b[0;31mHTTPError\u001b[0m                                 Traceback (most recent call last)",
      "\u001b[0;32m/var/folders/6g/3xsllmw13wlgw6s9sz37nrz80000gq/T/ipykernel_39974/3941729405.py\u001b[0m in \u001b[0;36m<module>\u001b[0;34m\u001b[0m\n\u001b[1;32m     27\u001b[0m             \u001b[0mprevious\u001b[0m\u001b[0;34m.\u001b[0m\u001b[0madd\u001b[0m\u001b[0;34m(\u001b[0m\u001b[0mw\u001b[0m\u001b[0;34m)\u001b[0m\u001b[0;34m\u001b[0m\u001b[0;34m\u001b[0m\u001b[0m\n\u001b[1;32m     28\u001b[0m     \u001b[0mhandle_result\u001b[0m\u001b[0;34m(\u001b[0m\u001b[0mpart2\u001b[0m\u001b[0;34m(\u001b[0m\u001b[0;34m)\u001b[0m\u001b[0;34m,\u001b[0m \u001b[0;36m2016\u001b[0m\u001b[0;34m,\u001b[0m \u001b[0;36m1\u001b[0m\u001b[0;34m,\u001b[0m \u001b[0;34m\"b\"\u001b[0m\u001b[0;34m)\u001b[0m\u001b[0;34m\u001b[0m\u001b[0;34m\u001b[0m\u001b[0m\n\u001b[0;32m---> 29\u001b[0;31m \u001b[0mday1\u001b[0m\u001b[0;34m(\u001b[0m\u001b[0;34m)\u001b[0m\u001b[0;34m\u001b[0m\u001b[0;34m\u001b[0m\u001b[0m\n\u001b[0m",
      "\u001b[0;32m~/personal/code/aoc/helpers/timings.py\u001b[0m in \u001b[0;36mtimed\u001b[0;34m(*args, **kw)\u001b[0m\n\u001b[1;32m      9\u001b[0m         \u001b[0;32mdef\u001b[0m \u001b[0mtimed\u001b[0m\u001b[0;34m(\u001b[0m\u001b[0;34m*\u001b[0m\u001b[0margs\u001b[0m\u001b[0;34m,\u001b[0m \u001b[0;34m**\u001b[0m\u001b[0mkw\u001b[0m\u001b[0;34m)\u001b[0m\u001b[0;34m:\u001b[0m\u001b[0;34m\u001b[0m\u001b[0;34m\u001b[0m\u001b[0m\n\u001b[1;32m     10\u001b[0m                 \u001b[0mts\u001b[0m \u001b[0;34m=\u001b[0m \u001b[0mperf_counter_ns\u001b[0m\u001b[0;34m(\u001b[0m\u001b[0;34m)\u001b[0m\u001b[0;34m\u001b[0m\u001b[0;34m\u001b[0m\u001b[0m\n\u001b[0;32m---> 11\u001b[0;31m                 \u001b[0mresult\u001b[0m \u001b[0;34m=\u001b[0m \u001b[0mmethod\u001b[0m\u001b[0;34m(\u001b[0m\u001b[0;34m*\u001b[0m\u001b[0margs\u001b[0m\u001b[0;34m,\u001b[0m \u001b[0;34m**\u001b[0m\u001b[0mkw\u001b[0m\u001b[0;34m)\u001b[0m\u001b[0;34m\u001b[0m\u001b[0;34m\u001b[0m\u001b[0m\n\u001b[0m\u001b[1;32m     12\u001b[0m                 \u001b[0mte\u001b[0m \u001b[0;34m=\u001b[0m \u001b[0mperf_counter_ns\u001b[0m\u001b[0;34m(\u001b[0m\u001b[0;34m)\u001b[0m\u001b[0;34m\u001b[0m\u001b[0;34m\u001b[0m\u001b[0m\n\u001b[1;32m     13\u001b[0m                 \u001b[0mduration\u001b[0m \u001b[0;34m=\u001b[0m \u001b[0mint\u001b[0m\u001b[0;34m(\u001b[0m\u001b[0mte\u001b[0m \u001b[0;34m-\u001b[0m \u001b[0mts\u001b[0m\u001b[0;34m)\u001b[0m \u001b[0;34m/\u001b[0m \u001b[0;36m1000000\u001b[0m\u001b[0;34m\u001b[0m\u001b[0;34m\u001b[0m\u001b[0m\n",
      "\u001b[0;32m/var/folders/6g/3xsllmw13wlgw6s9sz37nrz80000gq/T/ipykernel_39974/3941729405.py\u001b[0m in \u001b[0;36mday1\u001b[0;34m()\u001b[0m\n\u001b[1;32m     18\u001b[0m     \u001b[0;32mdef\u001b[0m \u001b[0mpart1\u001b[0m\u001b[0;34m(\u001b[0m\u001b[0;34m)\u001b[0m\u001b[0;34m:\u001b[0m\u001b[0;34m\u001b[0m\u001b[0;34m\u001b[0m\u001b[0m\n\u001b[1;32m     19\u001b[0m         \u001b[0;32mreturn\u001b[0m \u001b[0mcityblock_distance\u001b[0m\u001b[0;34m(\u001b[0m\u001b[0mlist\u001b[0m\u001b[0;34m(\u001b[0m\u001b[0mwalk\u001b[0m\u001b[0;34m(\u001b[0m\u001b[0;34m)\u001b[0m\u001b[0;34m)\u001b[0m\u001b[0;34m[\u001b[0m\u001b[0;34m-\u001b[0m\u001b[0;36m1\u001b[0m\u001b[0;34m]\u001b[0m\u001b[0;34m)\u001b[0m\u001b[0;34m\u001b[0m\u001b[0;34m\u001b[0m\u001b[0m\n\u001b[0;32m---> 20\u001b[0;31m     \u001b[0mhandle_result\u001b[0m\u001b[0;34m(\u001b[0m\u001b[0mpart1\u001b[0m\u001b[0;34m(\u001b[0m\u001b[0;34m)\u001b[0m\u001b[0;34m,\u001b[0m \u001b[0;36m2106\u001b[0m\u001b[0;34m,\u001b[0m \u001b[0;36m1\u001b[0m\u001b[0;34m,\u001b[0m \u001b[0;34m\"a\"\u001b[0m\u001b[0;34m)\u001b[0m\u001b[0;34m\u001b[0m\u001b[0;34m\u001b[0m\u001b[0m\n\u001b[0m\u001b[1;32m     21\u001b[0m \u001b[0;34m\u001b[0m\u001b[0m\n\u001b[1;32m     22\u001b[0m     \u001b[0;32mdef\u001b[0m \u001b[0mpart2\u001b[0m\u001b[0;34m(\u001b[0m\u001b[0;34m)\u001b[0m\u001b[0;34m:\u001b[0m\u001b[0;34m\u001b[0m\u001b[0;34m\u001b[0m\u001b[0m\n",
      "\u001b[0;32m~/personal/code/aoc/helpers/aoc.py\u001b[0m in \u001b[0;36mhandle_result\u001b[0;34m(value, year, day, part, both)\u001b[0m\n\u001b[1;32m     27\u001b[0m         \u001b[0mprint\u001b[0m\u001b[0;34m(\u001b[0m\u001b[0mvalue\u001b[0m\u001b[0;34m)\u001b[0m\u001b[0;34m\u001b[0m\u001b[0;34m\u001b[0m\u001b[0m\n\u001b[1;32m     28\u001b[0m         \u001b[0;32mif\u001b[0m \u001b[0mboth\u001b[0m\u001b[0;34m:\u001b[0m\u001b[0;34m\u001b[0m\u001b[0;34m\u001b[0m\u001b[0m\n\u001b[0;32m---> 29\u001b[0;31m                 \u001b[0msubmit\u001b[0m\u001b[0;34m(\u001b[0m\u001b[0mvalue\u001b[0m\u001b[0;34m,\u001b[0m \u001b[0myear\u001b[0m\u001b[0;34m=\u001b[0m\u001b[0myear\u001b[0m\u001b[0;34m,\u001b[0m \u001b[0mday\u001b[0m\u001b[0;34m=\u001b[0m\u001b[0mday\u001b[0m\u001b[0;34m,\u001b[0m \u001b[0mpart\u001b[0m\u001b[0;34m=\u001b[0m\u001b[0mpart\u001b[0m\u001b[0;34m,\u001b[0m \u001b[0mreopen\u001b[0m\u001b[0;34m=\u001b[0m\u001b[0;32mFalse\u001b[0m\u001b[0;34m)\u001b[0m\u001b[0;34m\u001b[0m\u001b[0;34m\u001b[0m\u001b[0m\n\u001b[0m",
      "\u001b[0;32m~/Library/Caches/pypoetry/virtualenvs/aoc-4XlTh8MP-py3.10/lib/python3.10/site-packages/aocd/post.py\u001b[0m in \u001b[0;36msubmit\u001b[0;34m(answer, part, day, year, session, reopen, quiet)\u001b[0m\n\u001b[1;32m     39\u001b[0m             \u001b[0mlog\u001b[0m\u001b[0;34m.\u001b[0m\u001b[0mwarning\u001b[0m\u001b[0;34m(\u001b[0m\u001b[0;34m\"submitting for part b (part a is already completed)\"\u001b[0m\u001b[0;34m)\u001b[0m\u001b[0;34m\u001b[0m\u001b[0;34m\u001b[0m\u001b[0m\n\u001b[1;32m     40\u001b[0m             \u001b[0mpart\u001b[0m \u001b[0;34m=\u001b[0m \u001b[0;34m\"b\"\u001b[0m\u001b[0;34m\u001b[0m\u001b[0;34m\u001b[0m\u001b[0m\n\u001b[0;32m---> 41\u001b[0;31m     \u001b[0mresponse\u001b[0m \u001b[0;34m=\u001b[0m \u001b[0mpuzzle\u001b[0m\u001b[0;34m.\u001b[0m\u001b[0m_submit\u001b[0m\u001b[0;34m(\u001b[0m\u001b[0mvalue\u001b[0m\u001b[0;34m=\u001b[0m\u001b[0manswer\u001b[0m\u001b[0;34m,\u001b[0m \u001b[0mpart\u001b[0m\u001b[0;34m=\u001b[0m\u001b[0mpart\u001b[0m\u001b[0;34m,\u001b[0m \u001b[0mreopen\u001b[0m\u001b[0;34m=\u001b[0m\u001b[0mreopen\u001b[0m\u001b[0;34m,\u001b[0m \u001b[0mquiet\u001b[0m\u001b[0;34m=\u001b[0m\u001b[0mquiet\u001b[0m\u001b[0;34m)\u001b[0m\u001b[0;34m\u001b[0m\u001b[0;34m\u001b[0m\u001b[0m\n\u001b[0m\u001b[1;32m     42\u001b[0m     \u001b[0;32mreturn\u001b[0m \u001b[0mresponse\u001b[0m\u001b[0;34m\u001b[0m\u001b[0;34m\u001b[0m\u001b[0m\n",
      "\u001b[0;32m~/Library/Caches/pypoetry/virtualenvs/aoc-4XlTh8MP-py3.10/lib/python3.10/site-packages/aocd/models.py\u001b[0m in \u001b[0;36m_submit\u001b[0;34m(self, value, part, reopen, quiet)\u001b[0m\n\u001b[1;32m    307\u001b[0m         \u001b[0murl\u001b[0m \u001b[0;34m=\u001b[0m \u001b[0mself\u001b[0m\u001b[0;34m.\u001b[0m\u001b[0msubmit_url\u001b[0m\u001b[0;34m\u001b[0m\u001b[0;34m\u001b[0m\u001b[0m\n\u001b[1;32m    308\u001b[0m         \u001b[0msanitized\u001b[0m \u001b[0;34m=\u001b[0m \u001b[0;34m\"...\"\u001b[0m \u001b[0;34m+\u001b[0m \u001b[0mself\u001b[0m\u001b[0;34m.\u001b[0m\u001b[0muser\u001b[0m\u001b[0;34m.\u001b[0m\u001b[0mtoken\u001b[0m\u001b[0;34m[\u001b[0m\u001b[0;34m-\u001b[0m\u001b[0;36m4\u001b[0m\u001b[0;34m:\u001b[0m\u001b[0;34m]\u001b[0m\u001b[0;34m\u001b[0m\u001b[0;34m\u001b[0m\u001b[0m\n\u001b[0;32m--> 309\u001b[0;31m         \u001b[0mcheck_guess\u001b[0m \u001b[0;34m=\u001b[0m \u001b[0mself\u001b[0m\u001b[0;34m.\u001b[0m\u001b[0m_check_guess_against_existing\u001b[0m\u001b[0;34m(\u001b[0m\u001b[0mvalue\u001b[0m\u001b[0;34m,\u001b[0m \u001b[0mpart\u001b[0m\u001b[0;34m)\u001b[0m\u001b[0;34m\u001b[0m\u001b[0;34m\u001b[0m\u001b[0m\n\u001b[0m\u001b[1;32m    310\u001b[0m         \u001b[0;32mif\u001b[0m \u001b[0mcheck_guess\u001b[0m \u001b[0;32mis\u001b[0m \u001b[0;32mnot\u001b[0m \u001b[0;32mNone\u001b[0m\u001b[0;34m:\u001b[0m\u001b[0;34m\u001b[0m\u001b[0;34m\u001b[0m\u001b[0m\n\u001b[1;32m    311\u001b[0m             \u001b[0;32mif\u001b[0m \u001b[0mquiet\u001b[0m\u001b[0;34m:\u001b[0m\u001b[0;34m\u001b[0m\u001b[0;34m\u001b[0m\u001b[0m\n",
      "\u001b[0;32m~/Library/Caches/pypoetry/virtualenvs/aoc-4XlTh8MP-py3.10/lib/python3.10/site-packages/aocd/models.py\u001b[0m in \u001b[0;36m_check_guess_against_existing\u001b[0;34m(self, guess, part)\u001b[0m\n\u001b[1;32m    377\u001b[0m     \u001b[0;32mdef\u001b[0m \u001b[0m_check_guess_against_existing\u001b[0m\u001b[0;34m(\u001b[0m\u001b[0mself\u001b[0m\u001b[0;34m,\u001b[0m \u001b[0mguess\u001b[0m\u001b[0;34m,\u001b[0m \u001b[0mpart\u001b[0m\u001b[0;34m)\u001b[0m\u001b[0;34m:\u001b[0m\u001b[0;34m\u001b[0m\u001b[0;34m\u001b[0m\u001b[0m\n\u001b[1;32m    378\u001b[0m         \u001b[0;32mtry\u001b[0m\u001b[0;34m:\u001b[0m\u001b[0;34m\u001b[0m\u001b[0;34m\u001b[0m\u001b[0m\n\u001b[0;32m--> 379\u001b[0;31m             \u001b[0manswer\u001b[0m \u001b[0;34m=\u001b[0m \u001b[0mself\u001b[0m\u001b[0;34m.\u001b[0m\u001b[0m_get_answer\u001b[0m\u001b[0;34m(\u001b[0m\u001b[0mpart\u001b[0m\u001b[0;34m=\u001b[0m\u001b[0mpart\u001b[0m\u001b[0;34m)\u001b[0m\u001b[0;34m\u001b[0m\u001b[0;34m\u001b[0m\u001b[0m\n\u001b[0m\u001b[1;32m    380\u001b[0m             \u001b[0;32mif\u001b[0m \u001b[0manswer\u001b[0m \u001b[0;34m==\u001b[0m \u001b[0;34m\"\"\u001b[0m\u001b[0;34m:\u001b[0m\u001b[0;34m\u001b[0m\u001b[0;34m\u001b[0m\u001b[0m\n\u001b[1;32m    381\u001b[0m                 \u001b[0;32mreturn\u001b[0m \u001b[0;32mNone\u001b[0m\u001b[0;34m\u001b[0m\u001b[0;34m\u001b[0m\u001b[0m\n",
      "\u001b[0;32m~/Library/Caches/pypoetry/virtualenvs/aoc-4XlTh8MP-py3.10/lib/python3.10/site-packages/aocd/models.py\u001b[0m in \u001b[0;36m_get_answer\u001b[0;34m(self, part)\u001b[0m\n\u001b[1;32m    444\u001b[0m                 \u001b[0;32mreturn\u001b[0m \u001b[0mf\u001b[0m\u001b[0;34m.\u001b[0m\u001b[0mread\u001b[0m\u001b[0;34m(\u001b[0m\u001b[0;34m)\u001b[0m\u001b[0;34m.\u001b[0m\u001b[0mstrip\u001b[0m\u001b[0;34m(\u001b[0m\u001b[0;34m)\u001b[0m\u001b[0;34m\u001b[0m\u001b[0;34m\u001b[0m\u001b[0m\n\u001b[1;32m    445\u001b[0m         \u001b[0;31m# scrape puzzle page for any previously solved answers\u001b[0m\u001b[0;34m\u001b[0m\u001b[0;34m\u001b[0m\u001b[0m\n\u001b[0;32m--> 446\u001b[0;31m         \u001b[0msoup\u001b[0m \u001b[0;34m=\u001b[0m \u001b[0mself\u001b[0m\u001b[0;34m.\u001b[0m\u001b[0m_soup\u001b[0m\u001b[0;34m(\u001b[0m\u001b[0;34m)\u001b[0m\u001b[0;34m\u001b[0m\u001b[0;34m\u001b[0m\u001b[0m\n\u001b[0m\u001b[1;32m    447\u001b[0m         \u001b[0;32mif\u001b[0m \u001b[0;32mnot\u001b[0m \u001b[0mself\u001b[0m\u001b[0;34m.\u001b[0m\u001b[0m_title\u001b[0m\u001b[0;34m:\u001b[0m\u001b[0;34m\u001b[0m\u001b[0;34m\u001b[0m\u001b[0m\n\u001b[1;32m    448\u001b[0m             \u001b[0;31m# may as well save this while we're here\u001b[0m\u001b[0;34m\u001b[0m\u001b[0;34m\u001b[0m\u001b[0m\n",
      "\u001b[0;32m~/Library/Caches/pypoetry/virtualenvs/aoc-4XlTh8MP-py3.10/lib/python3.10/site-packages/aocd/models.py\u001b[0m in \u001b[0;36m_soup\u001b[0;34m(self)\u001b[0m\n\u001b[1;32m    507\u001b[0m     \u001b[0;32mdef\u001b[0m \u001b[0m_soup\u001b[0m\u001b[0;34m(\u001b[0m\u001b[0mself\u001b[0m\u001b[0;34m)\u001b[0m\u001b[0;34m:\u001b[0m\u001b[0;34m\u001b[0m\u001b[0;34m\u001b[0m\u001b[0m\n\u001b[1;32m    508\u001b[0m         \u001b[0mresponse\u001b[0m \u001b[0;34m=\u001b[0m \u001b[0mrequests\u001b[0m\u001b[0;34m.\u001b[0m\u001b[0mget\u001b[0m\u001b[0;34m(\u001b[0m\u001b[0mself\u001b[0m\u001b[0;34m.\u001b[0m\u001b[0murl\u001b[0m\u001b[0;34m,\u001b[0m \u001b[0mcookies\u001b[0m\u001b[0;34m=\u001b[0m\u001b[0mself\u001b[0m\u001b[0;34m.\u001b[0m\u001b[0muser\u001b[0m\u001b[0;34m.\u001b[0m\u001b[0mauth\u001b[0m\u001b[0;34m,\u001b[0m \u001b[0mheaders\u001b[0m\u001b[0;34m=\u001b[0m\u001b[0mUSER_AGENT\u001b[0m\u001b[0;34m)\u001b[0m\u001b[0;34m\u001b[0m\u001b[0;34m\u001b[0m\u001b[0m\n\u001b[0;32m--> 509\u001b[0;31m         \u001b[0mresponse\u001b[0m\u001b[0;34m.\u001b[0m\u001b[0mraise_for_status\u001b[0m\u001b[0;34m(\u001b[0m\u001b[0;34m)\u001b[0m\u001b[0;34m\u001b[0m\u001b[0;34m\u001b[0m\u001b[0m\n\u001b[0m\u001b[1;32m    510\u001b[0m         \u001b[0msoup\u001b[0m \u001b[0;34m=\u001b[0m \u001b[0mbs4\u001b[0m\u001b[0;34m.\u001b[0m\u001b[0mBeautifulSoup\u001b[0m\u001b[0;34m(\u001b[0m\u001b[0mresponse\u001b[0m\u001b[0;34m.\u001b[0m\u001b[0mtext\u001b[0m\u001b[0;34m,\u001b[0m \u001b[0;34m\"html.parser\"\u001b[0m\u001b[0;34m)\u001b[0m\u001b[0;34m\u001b[0m\u001b[0;34m\u001b[0m\u001b[0m\n\u001b[1;32m    511\u001b[0m         \u001b[0;32mreturn\u001b[0m \u001b[0msoup\u001b[0m\u001b[0;34m\u001b[0m\u001b[0;34m\u001b[0m\u001b[0m\n",
      "\u001b[0;32m~/Library/Caches/pypoetry/virtualenvs/aoc-4XlTh8MP-py3.10/lib/python3.10/site-packages/requests/models.py\u001b[0m in \u001b[0;36mraise_for_status\u001b[0;34m(self)\u001b[0m\n\u001b[1;32m    951\u001b[0m \u001b[0;34m\u001b[0m\u001b[0m\n\u001b[1;32m    952\u001b[0m         \u001b[0;32mif\u001b[0m \u001b[0mhttp_error_msg\u001b[0m\u001b[0;34m:\u001b[0m\u001b[0;34m\u001b[0m\u001b[0;34m\u001b[0m\u001b[0m\n\u001b[0;32m--> 953\u001b[0;31m             \u001b[0;32mraise\u001b[0m \u001b[0mHTTPError\u001b[0m\u001b[0;34m(\u001b[0m\u001b[0mhttp_error_msg\u001b[0m\u001b[0;34m,\u001b[0m \u001b[0mresponse\u001b[0m\u001b[0;34m=\u001b[0m\u001b[0mself\u001b[0m\u001b[0;34m)\u001b[0m\u001b[0;34m\u001b[0m\u001b[0;34m\u001b[0m\u001b[0m\n\u001b[0m\u001b[1;32m    954\u001b[0m \u001b[0;34m\u001b[0m\u001b[0m\n\u001b[1;32m    955\u001b[0m     \u001b[0;32mdef\u001b[0m \u001b[0mclose\u001b[0m\u001b[0;34m(\u001b[0m\u001b[0mself\u001b[0m\u001b[0;34m)\u001b[0m\u001b[0;34m:\u001b[0m\u001b[0;34m\u001b[0m\u001b[0;34m\u001b[0m\u001b[0m\n",
      "\u001b[0;31mHTTPError\u001b[0m: 404 Client Error: Not Found for url: https://adventofcode.com/2106/day/1"
     ]
    }
   ],
   "source": [
    "@timeit\n",
    "def day1():\n",
    "    from helpers.grids.xy import HEADINGS, UP, LEFT, DOWN, RIGHT, turn_left, turn_right\n",
    "    \n",
    "    re_directions = re.compile(r\"(L|R)(\\d+)\")\n",
    "    process = lambda p: (p[0], int(p[1]))\n",
    "    directions = [process(re_directions.findall(i)[0]) for i in get_raw(2016, 1).split(', ')]\n",
    "    \n",
    "    def walk():\n",
    "        c_pos = origin\n",
    "        c_dir = UP\n",
    "        for d, s, in directions:\n",
    "            c_dir = turn_right(c_dir) if d == \"R\" else turn_left(c_dir)\n",
    "            for _ in range(s):\n",
    "                c_pos = add(c_pos, c_dir)\n",
    "                yield c_pos\n",
    "                \n",
    "    def part1():\n",
    "        return cityblock_distance(list(walk())[-1])\n",
    "    handle_result(part1(), 2106, 1, \"a\")\n",
    "    \n",
    "    def part2():\n",
    "        previous = set()\n",
    "        for w in walk():\n",
    "            if w in previous:\n",
    "                return cityblock_distance(w)\n",
    "            previous.add(w)\n",
    "    handle_result(part2(), 2016, 1, \"b\")    \n",
    "day1()"
   ]
  }
 ],
 "metadata": {
  "kernelspec": {
   "display_name": "Python 3 (ipykernel)",
   "language": "python",
   "name": "python3"
  },
  "language_info": {
   "codemirror_mode": {
    "name": "ipython",
    "version": 3
   },
   "file_extension": ".py",
   "mimetype": "text/x-python",
   "name": "python",
   "nbconvert_exporter": "python",
   "pygments_lexer": "ipython3",
   "version": "3.10.0"
  }
 },
 "nbformat": 4,
 "nbformat_minor": 5
}
