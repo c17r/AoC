{
 "cells": [
  {
   "cell_type": "code",
   "execution_count": 18,
   "metadata": {},
   "outputs": [],
   "source": [
    "# Utility\n",
    "\n",
    "import requests\n",
    "import arrow\n",
    "from collections import defaultdict\n",
    "import re\n",
    "from collections import Counter, defaultdict, namedtuple, deque\n",
    "from functools   import lru_cache\n",
    "from itertools   import permutations, combinations, chain, cycle, product, islice\n",
    "from heapq       import heappop, heappush\n",
    "\n",
    "def contents(year, day, part):\n",
    "    with open(f'./2018/day{day}/part{part}') as f:\n",
    "        return f.read().splitlines()\n",
    "\n",
    "def take(n, iterable, default=None):\n",
    "    \"Return first n items of the iterable as a list\"\n",
    "    return list(islice(iterable, n, default))\n",
    "\n",
    "def nth(iterable, n, default=None):\n",
    "    \"Returns the nth item or a default value\"\n",
    "    return next(islice(iterable, n, None), default)\n",
    "\n",
    "first = lambda iterable: nth(iterable, 0)\n",
    "\n",
    "cat = ''.join\n",
    "    "
   ]
  },
  {
   "cell_type": "code",
   "execution_count": 19,
   "metadata": {},
   "outputs": [
    {
     "name": "stdout",
     "output_type": "stream",
     "text": [
      "50000\n",
      "11720\n",
      "4956\n"
     ]
    }
   ],
   "source": [
    "\"\"\"\n",
    "Day 5 Clean\n",
    "\n",
    "Sledgehammer approach: just keep replace()ing the valid reactions until the string\n",
    "    isn't changed.\n",
    "\"\"\"\n",
    "\n",
    "from string import ascii_lowercase, ascii_uppercase\n",
    "\n",
    "raw = contents(2018, 5, 1)[0]\n",
    "\n",
    "def reduce(data):\n",
    "    orig = None\n",
    "    while orig != data:\n",
    "        orig = data\n",
    "        for one, two in zip(ascii_lowercase, ascii_uppercase):\n",
    "            data = data.replace(one + two, '').replace(two + one, '')\n",
    "    return data\n",
    "\n",
    "print(len(raw))\n",
    "part1 = reduce(raw)\n",
    "print(len(part1))\n",
    "\n",
    "low = None\n",
    "for one, two in zip(ascii_lowercase, ascii_uppercase):\n",
    "    attempt = part1.replace(one, '').replace(two, '')\n",
    "    pass2 = reduce(attempt)\n",
    "    if low is None or len(pass2) < low:\n",
    "        low = len(pass2)\n",
    "print(low)\n"
   ]
  },
  {
   "cell_type": "code",
   "execution_count": 51,
   "metadata": {},
   "outputs": [
    {
     "name": "stdout",
     "output_type": "stream",
     "text": [
      "50000\n",
      "11720\n",
      "a 11254\n",
      "b 11242\n",
      "c 11246\n",
      "d 11308\n",
      "e 11244\n",
      "f 11256\n",
      "g 11262\n",
      "h 11272\n",
      "i 11186\n",
      "j 11252\n",
      "k 11208\n",
      "l 11250\n",
      "m 11280\n",
      "n 11234\n",
      "o 11264\n",
      "p 11192\n",
      "q 11264\n",
      "r 11258\n",
      "s 11238\n",
      "t 11210\n",
      "u 11302\n",
      "v 11286\n",
      "w 4956\n",
      "x 11274\n",
      "y 11280\n",
      "z 11224\n"
     ]
    }
   ],
   "source": [
    "\"\"\"\n",
    "Day 5 Quick-n-Dirty\n",
    "\"\"\"\n",
    "from string import ascii_lowercase\n",
    "\n",
    "data = contents(2018, 5, 1)[0]\n",
    "\n",
    "def reduce(start):\n",
    "    data = start\n",
    "    condition = True\n",
    "    while condition:\n",
    "        orig = data\n",
    "        for letter in ascii_lowercase:\n",
    "            one = letter + letter.upper()\n",
    "            data = data.replace(one, '')\n",
    "            two = letter.upper() + letter\n",
    "            data = data.replace(two, '')\n",
    "        condition = True if orig != data else False\n",
    "    return data\n",
    "\n",
    "print(len(data))\n",
    "\n",
    "pass1 = reduce(data)\n",
    "print(len(done))\n",
    "\n",
    "for letter in ascii_lowercase:\n",
    "    attempt = pass1\n",
    "    attempt = attempt.replace(letter, '')\n",
    "    attempt = attempt.replace(letter.upper(), '')\n",
    "    pass2 = reduce(attempt)\n",
    "    print(letter, len(pass2))\n"
   ]
  },
  {
   "cell_type": "code",
   "execution_count": 2,
   "metadata": {},
   "outputs": [
    {
     "name": "stdout",
     "output_type": "stream",
     "text": [
      "146622\n",
      "31848\n"
     ]
    }
   ],
   "source": [
    "\"\"\"\n",
    "Day 4 Clean\n",
    "\"\"\"\n",
    "\n",
    "data = sorted(contents(2018, 4, 1))\n",
    "\n",
    "workers = defaultdict(lambda: { 'total': 0, 'times': Counter() })\n",
    "worker = None\n",
    "sleep = None\n",
    "\n",
    "for entry in data:\n",
    "    number = int(re.findall('\\d+', entry)[-1])\n",
    "\n",
    "    if 'begins' in entry: worker = number\n",
    "    if 'falls' in entry: sleep = number\n",
    "\n",
    "    if 'wakes' in entry:\n",
    "        awake = number\n",
    "        workers[worker]['total'] += (awake - sleep)\n",
    "        workers[worker]['times'].update([i for i in range(sleep, awake)])\n",
    "\n",
    "mc = lambda entry: entry[1]['times'].most_common(1)[0]\n",
    "total = lambda entry: entry[1]['total']\n",
    "guard = lambda entry: entry[0]\n",
    "\n",
    "part1 = max(workers.items(), key=lambda e: total(e))\n",
    "part2 = max(workers.items(), key=lambda e: mc(e)[1])\n",
    "\n",
    "print(guard(part1) * mc(part1)[0])\n",
    "print(guard(part2) * mc(part2)[0])"
   ]
  },
  {
   "cell_type": "code",
   "execution_count": 59,
   "metadata": {},
   "outputs": [
    {
     "name": "stdout",
     "output_type": "stream",
     "text": [
      "#3491\n",
      "[(42, 15)]\n",
      "#1327\n",
      "[(24, 17)]\n"
     ]
    }
   ],
   "source": [
    "\"\"\"\n",
    "Day 4 Quick-n-Dirty\n",
    "\"\"\"\n",
    "\n",
    "test = \"\"\"[1518-11-01 00:00] Guard #10 begins shift\n",
    "[1518-11-01 00:05] falls asleep\n",
    "[1518-11-01 00:25] wakes up\n",
    "[1518-11-01 00:30] falls asleep\n",
    "[1518-11-01 00:55] wakes up\n",
    "[1518-11-01 23:58] Guard #99 begins shift\n",
    "[1518-11-02 00:40] falls asleep\n",
    "[1518-11-02 00:50] wakes up\n",
    "[1518-11-03 00:05] Guard #10 begins shift\n",
    "[1518-11-03 00:24] falls asleep\n",
    "[1518-11-03 00:29] wakes up\n",
    "[1518-11-04 00:02] Guard #99 begins shift\n",
    "[1518-11-04 00:36] falls asleep\n",
    "[1518-11-04 00:46] wakes up\n",
    "[1518-11-05 00:03] Guard #99 begins shift\n",
    "[1518-11-05 00:45] falls asleep\n",
    "[1518-11-05 00:55] wakes up\"\"\".split('\\n')\n",
    "\n",
    "isore = re.compile('\\[.+\\]')\n",
    "timere = re.compile('\\d\\d:\\d\\d')\n",
    "startre = re.compile('#\\d+')\n",
    "\n",
    "raw = contents(2018, 4, 1)\n",
    "data = sorted(raw, key=lambda e: isore.findall(e)[0])\n",
    "\n",
    "def new():\n",
    "    return {\n",
    "        'id': None,\n",
    "        'total': 0,\n",
    "        'times': Counter()\n",
    "    }\n",
    "\n",
    "workers = defaultdict(new)\n",
    "worker = None\n",
    "laststamp = None\n",
    "sleep = None\n",
    "\n",
    "for entry in data:\n",
    "    dts = arrow.get(isore.findall(entry)[0], 'YYYY-MM-DD HH:mm')\n",
    "\n",
    "    if 'begins' in entry:\n",
    "        worker = startre.findall(entry)[0]\n",
    "\n",
    "    if 'falls' in entry:\n",
    "        sleep = dts\n",
    "\n",
    "    if 'wakes' in entry:\n",
    "        awake = dts\n",
    "        workers[worker]['total'] += (awake-sleep).seconds\n",
    "        workers[worker]['id'] = worker\n",
    "        for r in arrow.Arrow.range('minute', sleep, awake):\n",
    "            workers[worker]['times'].update([r.minute])\n",
    "\n",
    "    laststamp = dts\n",
    "\n",
    "most = None\n",
    "for worker in workers.values():\n",
    "    if most is None or worker['total'] > most['total']:\n",
    "        most = worker\n",
    "\n",
    "print(most['id'])\n",
    "print(most['times'].most_common(1))\n",
    "\n",
    "most = None\n",
    "for worker in workers.values():\n",
    "    if most is None or worker['times'].most_common(1)[0][1] > most['times'].most_common(1)[0][1]:\n",
    "        most = worker\n",
    "\n",
    "print(most['id'])\n",
    "print(most['times'].most_common(1))"
   ]
  },
  {
   "cell_type": "code",
   "execution_count": 61,
   "metadata": {},
   "outputs": [
    {
     "data": {
      "text/plain": [
       "146622"
      ]
     },
     "execution_count": 61,
     "metadata": {},
     "output_type": "execute_result"
    }
   ],
   "source": [
    "3491*42"
   ]
  },
  {
   "cell_type": "code",
   "execution_count": 65,
   "metadata": {},
   "outputs": [
    {
     "data": {
      "text/plain": [
       "31848"
      ]
     },
     "execution_count": 65,
     "metadata": {},
     "output_type": "execute_result"
    }
   ],
   "source": [
    "1327*24"
   ]
  },
  {
   "cell_type": "code",
   "execution_count": 2,
   "metadata": {},
   "outputs": [
    {
     "name": "stdout",
     "output_type": "stream",
     "text": [
      "115348\n",
      "188\n"
     ]
    }
   ],
   "source": [
    "\"\"\"\n",
    "Day 3\n",
    "\n",
    "1. fabric is a sparse matrix that holds a set to track all claims in that coordinate\n",
    "2. keep a running total of all claims we've seen\n",
    "2. if the count of claims for a coordinate go above 1\n",
    "    a. add the coordinate to the bad cells set\n",
    "    b. remove the claims from the running total\n",
    "\n",
    "Part 1 is the count of bad cells\n",
    "Part 2 is all cids minus all the bad cids, should be only 1 value\n",
    "\"\"\"\n",
    "\n",
    "claims = contents(2018, 3, 1)\n",
    "\n",
    "fabric = defaultdict(set)\n",
    "cids, bcells = set(), set()\n",
    "\n",
    "for claim in claims:\n",
    "    cid, left, top, width, height = map(int, re.findall('\\d+', claim))\n",
    "    cids.add(cid)\n",
    "    for x in range(left, left + width):\n",
    "        for y in range(top, top + height):\n",
    "            fabric[x,y].add(cid)\n",
    "            if len(fabric[x,y]) > 1:\n",
    "                cids = cids - fabric[x,y]\n",
    "                bcells.add((x,y))\n",
    "\n",
    "print(len(bcells))\n",
    "print(cids.pop())\n",
    "    "
   ]
  },
  {
   "cell_type": "code",
   "execution_count": 3,
   "metadata": {},
   "outputs": [
    {
     "name": "stdout",
     "output_type": "stream",
     "text": [
      "Part 1: 5000\n",
      "Part 2: ymdrchgpvwfloluktajxijsqb\n"
     ]
    }
   ],
   "source": [
    "\"\"\"\n",
    "Day 2\n",
    "\n",
    "Part 1: This is a dense couple of lines\n",
    "    1. Counter(line) gives us the count of each letter\n",
    "    2. _.values() gives us just the counts since we don't care about the particular letter at this point\n",
    "    3. set(_) gives us the unique count, since multiple 2s or 3s only count once per line\n",
    "    4. rt.update(_) puts the unique counts into another Counter, adding up as we go\n",
    "    5. we then just take the counts of the 2s and the 3s\n",
    "    \n",
    "Part 2: \n",
    "    1. product(codes, codes) is effectively a loop-within-a-loop.\n",
    "    2. lev is Levenshtein Distance: How many differences between the inputs on a character-by-character basis, we're looking for a single difference\n",
    "    3. one_offs runs as a generator so we can stop at the first one\n",
    "    4. actual answer is opposite of Levenshtein Distance, all the characters that are the same between the inputs on a character-by-character basis\n",
    "\"\"\"\n",
    "\n",
    "codes = contents(2018, 2, 1)\n",
    "\n",
    "rt = Counter()\n",
    "[rt.update(set(Counter(line).values())) for line in codes]\n",
    "print(f'Part 1: {rt[2] * rt[3]}')\n",
    "\n",
    "lev = lambda first, second: sum(1 for a, b in zip(first, second) if a != b)\n",
    "one_offs = ((one, two) for one, two in product(codes, codes) if lev(one, two) == 1)\n",
    "a, b = first(one_offs)\n",
    "answer = cat([c1 for c1, c2 in zip(a, b) if c1 == c2])\n",
    "print(f'Part 2: {answer}')"
   ]
  },
  {
   "cell_type": "code",
   "execution_count": 4,
   "metadata": {},
   "outputs": [
    {
     "name": "stdout",
     "output_type": "stream",
     "text": [
      "Part 1: 466\n",
      "Part 2: 750\n"
     ]
    }
   ],
   "source": [
    "\"\"\"\n",
    "Day 1\n",
    "\n",
    "Part 1: pretty simple, just a sum of all the numbers in the file.\n",
    "Part 2: we use cycle() to continue repeatig the iterable until we stop. Use set() for seen for performance purposes\n",
    "\"\"\"\n",
    "\n",
    "numbers = [int(i) for i in contents(2018, 1, 1)]\n",
    "print(f'Part 1: {sum(numbers)}')\n",
    "\n",
    "seen, rt = set(), 0\n",
    "for num in cycle(numbers):\n",
    "    rt += num\n",
    "    if rt in seen:\n",
    "        print(f'Part 2: {rt}')\n",
    "        break\n",
    "    seen.add(rt)"
   ]
  }
 ],
 "metadata": {
  "kernelspec": {
   "display_name": "Python 3",
   "language": "python",
   "name": "python3"
  },
  "language_info": {
   "codemirror_mode": {
    "name": "ipython",
    "version": 3
   },
   "file_extension": ".py",
   "mimetype": "text/x-python",
   "name": "python",
   "nbconvert_exporter": "python",
   "pygments_lexer": "ipython3",
   "version": "3.7.1"
  }
 },
 "nbformat": 4,
 "nbformat_minor": 2
}
