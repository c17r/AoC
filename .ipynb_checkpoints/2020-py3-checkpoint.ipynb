{
 "cells": [
  {
   "cell_type": "code",
   "execution_count": 1,
   "metadata": {},
   "outputs": [],
   "source": [
    "# Utility\n",
    "import re, sys, copy, arrow, random\n",
    "from helpers import *"
   ]
  },
  {
   "cell_type": "code",
   "execution_count": 2,
   "metadata": {},
   "outputs": [
    {
     "name": "stdout",
     "output_type": "stream",
     "text": [
      "[('123', 'in')]\n"
     ]
    }
   ],
   "source": [
    "def scratch():\n",
    "    re_cid = re.compile(\"^(\\d+)(cm|in)$\")\n",
    "    print(re_cid.findall(\"123in\"))\n",
    "        \n",
    "scratch()"
   ]
  },
  {
   "cell_type": "code",
   "execution_count": 3,
   "metadata": {},
   "outputs": [
    {
     "name": "stdout",
     "output_type": "stream",
     "text": [
      "'part1'  0.00 ms\n",
      "'part2'  0.00 ms\n",
      "'day5'  0.60 ms\n"
     ]
    }
   ],
   "source": [
    "@timeit\n",
    "def day5():\n",
    "    raw = contents(2020, 5, 1)\n",
    "    \n",
    "    @timeit\n",
    "    def part1():\n",
    "        pass\n",
    "    part1()\n",
    "    \n",
    "    @timeit\n",
    "    def part2():\n",
    "        pass\n",
    "    part2()\n",
    "day5()"
   ]
  },
  {
   "cell_type": "code",
   "execution_count": 4,
   "metadata": {},
   "outputs": [
    {
     "name": "stdout",
     "output_type": "stream",
     "text": [
      "245\n",
      "'part1'  1.42 ms\n",
      "133\n",
      "'part2'  2.73 ms\n",
      "'day4'  5.46 ms\n"
     ]
    }
   ],
   "source": [
    "@timeit\n",
    "def day4():\n",
    "    raw = contents(2020, 4, 1)\n",
    "    \n",
    "    re_fields = re.compile(\"(byr|iyr|eyr|hgt|hcl|ecl|pid|cid):(\\S+)\")\n",
    "    re_cid = re.compile(\"cid:\\S+\")\n",
    "    \n",
    "    rules = {\n",
    "        \"byr\": { \n",
    "            \"reg\": re.compile(\"^\\d{4}$\"), \n",
    "            \"valid\": lambda v: 1920 <= int(v) <= 2002 \n",
    "        },\n",
    "        \"iyr\": { \n",
    "            \"reg\": re.compile(\"^\\d{4}$\"), \n",
    "            \"valid\": lambda v: 2010 <= int(v) <= 2020 \n",
    "        },\n",
    "        \"eyr\": { \n",
    "            \"reg\": re.compile(\"^\\d{4}$\"), \n",
    "            \"valid\": lambda v: 2020 <= int(v) <= 2030 \n",
    "        },\n",
    "        \"hgt\": { \n",
    "            \"reg\": re.compile(\"^(\\d+)(cm|in)$\"), \n",
    "            \"valid\": lambda r: (59 <= int(r[0]) <= 76) if (r[1] == \"in\") else (150 <= int(r[0]) <= 193) \n",
    "        },\n",
    "        \"hcl\": { \n",
    "            \"reg\": re.compile(\"^#[a-f0-9]{6}$\"),     \n",
    "            \"valid\": always(True)\n",
    "        },\n",
    "        \"ecl\": { \n",
    "            \"reg\": re.compile(\"^(?:amb|blu|brn|gry|grn|hzl|oth)$\"), \n",
    "            \"valid\": always(True)\n",
    "        },\n",
    "        \"pid\": { \n",
    "            \"reg\": re.compile(\"^\\d{9}$\"), \n",
    "            \"valid\": always(True)\n",
    "        },\n",
    "    }\n",
    "    \n",
    "    def get_full(lines):\n",
    "        hold = []\n",
    "        for line in lines:\n",
    "            if line == '':\n",
    "                yield \" \".join(hold)\n",
    "                hold = []\n",
    "                continue\n",
    "            hold.append(line)\n",
    "        yield \" \".join(hold)\n",
    "    \n",
    "    def validate(lines, secondary=None):        \n",
    "        for passport in get_full(lines):\n",
    "            entries = re_fields.findall(passport)\n",
    "            count = len(entries)\n",
    "            has_cid = re_cid.search(passport) is not None\n",
    "            \n",
    "            if (count == 8) or (count == 7 and has_cid is False):\n",
    "                yield 1 if (secondary is None or secondary(entries) is True) else 0\n",
    "            else:\n",
    "                yield 0\n",
    "                \n",
    "    @timeit\n",
    "    def part1():\n",
    "        print(sum(p for p in validate(raw)))\n",
    "    part1()\n",
    "    \n",
    "    def secondary(entries):\n",
    "        for code, data in entries:\n",
    "            if code in rules:\n",
    "                rule = rules[code]\n",
    "                inp = rule[\"reg\"].findall(data)\n",
    "                if len(inp) == 0 or rule[\"valid\"](inp[0]) is False:\n",
    "                    return False\n",
    "        return True\n",
    "    \n",
    "    @timeit\n",
    "    def part2():\n",
    "        print(sum(p for p in validate(raw, secondary)))\n",
    "    part2()\n",
    "day4()"
   ]
  },
  {
   "cell_type": "code",
   "execution_count": 5,
   "metadata": {},
   "outputs": [
    {
     "name": "stdout",
     "output_type": "stream",
     "text": [
      "299\n",
      "'part1'  0.46 ms\n",
      "3621285278\n",
      "'part2'  1.74 ms\n",
      "'day3'  7.66 ms\n"
     ]
    }
   ],
   "source": [
    "@timeit\n",
    "def day3():\n",
    "    from helpers.grids.rc import data_to_grid, chess_move\n",
    "    \n",
    "    grid, mc, mr = data_to_grid(contents(2020, 3, 1))\n",
    "    \n",
    "    def traverse(movement):\n",
    "        current = origin\n",
    "        trees = 0\n",
    "        mod = mc + 1\n",
    "        \n",
    "        while True:\n",
    "            r, c = add(current, movement)\n",
    "            if r > mr:\n",
    "                return trees\n",
    "            current = (r, c % mod)\n",
    "            trees += 1 if grid[current] == \"#\" else 0\n",
    "            \n",
    "    mul = lambda lst: reduce(lambda x, y: x * y, lst)\n",
    "            \n",
    "    @timeit\n",
    "    def part1():\n",
    "        print(traverse(chess_move(rights=3, downs=1)))\n",
    "    part1()\n",
    "    \n",
    "    @timeit\n",
    "    def part2():\n",
    "        moves = [\n",
    "            chess_move(rights=1, downs=1),\n",
    "            chess_move(rights=3, downs=1),\n",
    "            chess_move(rights=5, downs=1),\n",
    "            chess_move(rights=7, downs=1),\n",
    "            chess_move(rights=1, downs=2),\n",
    "        ]\n",
    "        \n",
    "        trees = [traverse(m) for m in moves]\n",
    "        print(mul(trees))\n",
    "    part2()\n",
    "        \n",
    "day3()"
   ]
  },
  {
   "cell_type": "code",
   "execution_count": 6,
   "metadata": {},
   "outputs": [
    {
     "name": "stdout",
     "output_type": "stream",
     "text": [
      "445\n",
      "'part1'  0.64 ms\n",
      "491\n",
      "'part2'  0.41 ms\n",
      "'day2'  5.69 ms\n"
     ]
    }
   ],
   "source": [
    "@timeit\n",
    "def day2():\n",
    "    re_split = re.compile(\"[\\d\\w]+\")\n",
    "    \n",
    "    def process(lines):\n",
    "        for rule in lines:\n",
    "            n1, n2, l, p = re_split.findall(rule)\n",
    "            yield int(n1), int(n2), l, p\n",
    "    \n",
    "    raw = contents(2020, 2, 1)\n",
    "    lines = list(process(raw))\n",
    "    \n",
    "    @timeit\n",
    "    def part1():\n",
    "        valid = 0\n",
    "        for low, high, letter, pw in lines:\n",
    "            valid += 1 if low <= pw.count(letter) <= high else 0\n",
    "        print(valid)\n",
    "    part1()\n",
    "    \n",
    "    @timeit\n",
    "    def part2():\n",
    "        valid = 0\n",
    "        for p1, p2, letter, pw in lines:\n",
    "            l1, l2 = pw[p1-1], pw[p2-1]\n",
    "            valid += 1 if (l1 == letter or l2 == letter) and (l1 != l2) else 0\n",
    "        print(valid)\n",
    "    part2()\n",
    "        \n",
    "day2()"
   ]
  },
  {
   "cell_type": "code",
   "execution_count": 7,
   "metadata": {},
   "outputs": [
    {
     "name": "stdout",
     "output_type": "stream",
     "text": [
      "736 169 1115 138688160\n",
      "1768 252 445536\n",
      "'day1'  90.18 ms\n"
     ]
    }
   ],
   "source": [
    "@timeit\n",
    "def day1():\n",
    "    data = map_ints(contents(2020, 1, 1))\n",
    "    first = second = False\n",
    "    for a in data:\n",
    "        for b in data:\n",
    "            if first is False and a+b == 2020:\n",
    "                first = True\n",
    "                print(a, b, a*b)\n",
    "                \n",
    "            for c in data:\n",
    "                if second is False and a+b+c == 2020:\n",
    "                    second = True\n",
    "                    print(a, b, c, a*b*c)\n",
    "                if first and second:\n",
    "                    break\n",
    "day1()"
   ]
  },
  {
   "cell_type": "code",
   "execution_count": null,
   "metadata": {},
   "outputs": [],
   "source": []
  }
 ],
 "metadata": {
  "kernelspec": {
   "display_name": "Python 3",
   "language": "python",
   "name": "python3"
  },
  "language_info": {
   "codemirror_mode": {
    "name": "ipython",
    "version": 3
   },
   "file_extension": ".py",
   "mimetype": "text/x-python",
   "name": "python",
   "nbconvert_exporter": "python",
   "pygments_lexer": "ipython3",
   "version": "3.9.0"
  }
 },
 "nbformat": 4,
 "nbformat_minor": 4
}
