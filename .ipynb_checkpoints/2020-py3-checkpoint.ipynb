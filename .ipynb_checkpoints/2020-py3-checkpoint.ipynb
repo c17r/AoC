{
 "cells": [
  {
   "cell_type": "code",
   "execution_count": 1,
   "metadata": {},
   "outputs": [],
   "source": [
    "# Utility\n",
    "import re, sys, copy, arrow, random\n",
    "from helpers import *"
   ]
  },
  {
   "cell_type": "code",
   "execution_count": 2,
   "metadata": {},
   "outputs": [],
   "source": [
    "def scratch():\n",
    "    pass\n",
    "scratch()"
   ]
  },
  {
   "cell_type": "code",
   "execution_count": 3,
   "metadata": {},
   "outputs": [
    {
     "name": "stdout",
     "output_type": "stream",
     "text": [
      "'part1'  0.00 ms\n",
      "None\n",
      "'part2'  0.00 ms\n",
      "None\n",
      "'day5'  9.12 ms\n"
     ]
    }
   ],
   "source": [
    "@timeit\n",
    "def day5():\n",
    "    #raw = get_lines(2020, 5)\n",
    "    \n",
    "    @timeit\n",
    "    def part1():\n",
    "        return None\n",
    "    handle_result(part1(), 2020, 5, \"a\", False)\n",
    "    \n",
    "    @timeit\n",
    "    def part2():\n",
    "        return None\n",
    "    handle_result(part2(), 2020, 5, \"b\", False)\n",
    "    \n",
    "day5()"
   ]
  },
  {
   "cell_type": "code",
   "execution_count": 6,
   "metadata": {},
   "outputs": [
    {
     "name": "stdout",
     "output_type": "stream",
     "text": [
      "'part1'  1.44 ms\n",
      "245\n",
      "Part a already solved with same answer: 245\n",
      "'part2'  1.99 ms\n",
      "133\n",
      "Part b already solved with same answer: 133\n",
      "'day4'  15.98 ms\n"
     ]
    }
   ],
   "source": [
    "@timeit\n",
    "def day4(): \n",
    "    re_clean = re.compile(r\"\\n(.)\", re.DOTALL)\n",
    "    re_fields = re.compile(r\"(byr|iyr|eyr|hgt|hcl|ecl|pid|cid):(\\S+)\")\n",
    "    re_cid = re.compile(r\"cid:\\S+\")\n",
    "    \n",
    "    raw = get_lines(2020, 4, lambda r: re_clean.sub(r\" \\1\", r))\n",
    "    \n",
    "    rules = {\n",
    "        \"byr\": { \n",
    "            \"reg\": re.compile(r\"^\\d{4}$\"), \n",
    "            \"valid\": lambda v: 1920 <= int(v) <= 2002 \n",
    "        },\n",
    "        \"iyr\": { \n",
    "            \"reg\": re.compile(r\"^\\d{4}$\"), \n",
    "            \"valid\": lambda v: 2010 <= int(v) <= 2020 \n",
    "        },\n",
    "        \"eyr\": { \n",
    "            \"reg\": re.compile(r\"^\\d{4}$\"), \n",
    "            \"valid\": lambda v: 2020 <= int(v) <= 2030 \n",
    "        },\n",
    "        \"hgt\": { \n",
    "            \"reg\": re.compile(r\"^(\\d+)(cm|in)$\"), \n",
    "            \"valid\": lambda r: (59 <= int(r[0]) <= 76) if (r[1] == \"in\") else (150 <= int(r[0]) <= 193) \n",
    "        },\n",
    "        \"hcl\": { \n",
    "            \"reg\": re.compile(r\"^#[a-f0-9]{6}$\"),     \n",
    "            \"valid\": always(True)\n",
    "        },\n",
    "        \"ecl\": { \n",
    "            \"reg\": re.compile(r\"^(?:amb|blu|brn|gry|grn|hzl|oth)$\"), \n",
    "            \"valid\": always(True)\n",
    "        },\n",
    "        \"pid\": { \n",
    "            \"reg\": re.compile(r\"^\\d{9}$\"), \n",
    "            \"valid\": always(True)\n",
    "        },\n",
    "    }\n",
    "    \n",
    "    def validate(passports, secondary=None):        \n",
    "        for passport in passports:\n",
    "            entries = re_fields.findall(passport)\n",
    "            count = len(entries)\n",
    "            has_cid = re_cid.search(passport) is not None\n",
    "            \n",
    "            if (count == 8) or (count == 7 and has_cid is False):\n",
    "                yield 1 if (secondary is None or secondary(entries) is True) else 0\n",
    "            else:\n",
    "                yield 0\n",
    "                \n",
    "    def secondary(entries):\n",
    "        for code, data in entries:\n",
    "            if code in rules:\n",
    "                rule = rules[code]\n",
    "                inp = rule[\"reg\"].findall(data)\n",
    "                if len(inp) == 0 or rule[\"valid\"](inp[0]) is False:\n",
    "                    return False\n",
    "        return True\n",
    "    \n",
    "    @timeit\n",
    "    def part1():\n",
    "        return sum(p for p in validate(raw))\n",
    "    handle_result(part1(), 2020, 4, \"a\")\n",
    "    \n",
    "    @timeit\n",
    "    def part2():\n",
    "        return sum(p for p in validate(raw, secondary))\n",
    "    handle_result(part2(), 2020, 4, \"b\")\n",
    "\n",
    "day4()"
   ]
  },
  {
   "cell_type": "code",
   "execution_count": 5,
   "metadata": {},
   "outputs": [
    {
     "name": "stdout",
     "output_type": "stream",
     "text": [
      "'part1'  0.36 ms\n",
      "299\n",
      "You don't seem to be solving the right level.  Did you already complete it? [Return to Day 3]\n",
      "'part2'  2.27 ms\n",
      "3621285278\n",
      "You don't seem to be solving the right level.  Did you already complete it? [Return to Day 3]\n",
      "'day3'  110.72 ms\n"
     ]
    }
   ],
   "source": [
    "@timeit\n",
    "def day3():\n",
    "    from helpers.grids.rc import data_to_grid, chess_move\n",
    "    \n",
    "    grid, mc, mr = data_to_grid(get_lines(2020, 3))\n",
    "    \n",
    "    def traverse(movement):\n",
    "        current = origin\n",
    "        trees = 0\n",
    "        mod = mc + 1\n",
    "        \n",
    "        while True:\n",
    "            r, c = add(current, movement)\n",
    "            if r > mr:\n",
    "                return trees\n",
    "            current = (r, c % mod)\n",
    "            trees += 1 if grid[current] == \"#\" else 0\n",
    "            \n",
    "    mul = lambda lst: reduce(lambda x, y: x * y, lst)\n",
    "            \n",
    "    @timeit\n",
    "    def part1():\n",
    "        return traverse(chess_move(rights=3, downs=1))\n",
    "    handle_result(part1(), 2020, 3, \"a\")\n",
    "    \n",
    "    @timeit\n",
    "    def part2():\n",
    "        moves = [\n",
    "            chess_move(rights=1, downs=1),\n",
    "            chess_move(rights=3, downs=1),\n",
    "            chess_move(rights=5, downs=1),\n",
    "            chess_move(rights=7, downs=1),\n",
    "            chess_move(rights=1, downs=2),\n",
    "        ]\n",
    "        \n",
    "        trees = [traverse(m) for m in moves]\n",
    "        return mul(trees)\n",
    "    handle_result(part2(), 2020, 3, \"b\")\n",
    "        \n",
    "day3()"
   ]
  },
  {
   "cell_type": "code",
   "execution_count": 10,
   "metadata": {},
   "outputs": [
    {
     "name": "stdout",
     "output_type": "stream",
     "text": [
      "445\n",
      "'part1'  2.38 ms\n",
      "491\n",
      "'part2'  2.35 ms\n",
      "'day2'  13.40 ms\n"
     ]
    }
   ],
   "source": [
    "@timeit\n",
    "def day2():\n",
    "    re_split = re.compile(\"[\\d\\w]+\")\n",
    "    \n",
    "    def process(lines):\n",
    "        for rule in lines:\n",
    "            n1, n2, l, p = re_split.findall(rule)\n",
    "            yield int(n1), int(n2), l, p\n",
    "    \n",
    "    lines = list(process(get_lines(2020, 2)))\n",
    "    \n",
    "    @timeit\n",
    "    def part1():\n",
    "        valid = 0\n",
    "        for low, high, letter, pw in lines:\n",
    "            valid += 1 if low <= pw.count(letter) <= high else 0\n",
    "        return valid\n",
    "    handle_result(part1(), 2020, 2, \"a\")\n",
    "    \n",
    "    @timeit\n",
    "    def part2():\n",
    "        valid = 0\n",
    "        for p1, p2, letter, pw in lines:\n",
    "            l1, l2 = pw[p1-1], pw[p2-1]\n",
    "            valid += 1 if (l1 == letter or l2 == letter) and (l1 != l2) else 0\n",
    "        return valid\n",
    "    handle_result(part2(), 2020, 2, \"b\")\n",
    "        \n",
    "day2()"
   ]
  },
  {
   "cell_type": "code",
   "execution_count": 9,
   "metadata": {},
   "outputs": [
    {
     "name": "stdout",
     "output_type": "stream",
     "text": [
      "736 169 1115 138688160\n",
      "1768 252 445536\n",
      "'day1'  118.29 ms\n"
     ]
    }
   ],
   "source": [
    "@timeit\n",
    "def day1():\n",
    "    data = map_ints(get_lines(2020, 1))\n",
    "    first = second = False\n",
    "    \n",
    "    for a in data:\n",
    "        for b in data:\n",
    "            if first is False and a+b == 2020:\n",
    "                first = True\n",
    "                handle_result(a*b, 2020, 1, \"a\")\n",
    "                \n",
    "            for c in data:\n",
    "                if second is False and a+b+c == 2020:\n",
    "                    second = True\n",
    "                    handle_result(a*b*c, 2020, 1, \"b\")\n",
    "                if first and second:\n",
    "                    break\n",
    "day1()"
   ]
  },
  {
   "cell_type": "code",
   "execution_count": null,
   "metadata": {},
   "outputs": [],
   "source": []
  }
 ],
 "metadata": {
  "kernelspec": {
   "display_name": "Python 3",
   "language": "python",
   "name": "python3"
  },
  "language_info": {
   "codemirror_mode": {
    "name": "ipython",
    "version": 3
   },
   "file_extension": ".py",
   "mimetype": "text/x-python",
   "name": "python",
   "nbconvert_exporter": "python",
   "pygments_lexer": "ipython3",
   "version": "3.9.0"
  }
 },
 "nbformat": 4,
 "nbformat_minor": 4
}
