{
 "cells": [
  {
   "cell_type": "code",
   "execution_count": 1,
   "id": "0f7b221b",
   "metadata": {},
   "outputs": [],
   "source": [
    "# Utility\n",
    "import re, sys, copy, arrow, random\n",
    "from helpers import *\n",
    "\n",
    "# handle_result(<guess>, <year:int>, <day:int>, <part:str>, <both:bool<True>>)"
   ]
  },
  {
   "cell_type": "code",
   "execution_count": null,
   "id": "378de5cf",
   "metadata": {},
   "outputs": [],
   "source": [
    "@timeit\n",
    "def day1():\n",
    "    pass\n",
    "\n",
    "day1()"
   ]
  }
 ],
 "metadata": {
  "kernelspec": {
   "display_name": "Python 3 (ipykernel)",
   "language": "python",
   "name": "python3"
  },
  "language_info": {
   "codemirror_mode": {
    "name": "ipython",
    "version": 3
   },
   "file_extension": ".py",
   "mimetype": "text/x-python",
   "name": "python",
   "nbconvert_exporter": "python",
   "pygments_lexer": "ipython3",
   "version": "3.10.6"
  }
 },
 "nbformat": 4,
 "nbformat_minor": 5
}
